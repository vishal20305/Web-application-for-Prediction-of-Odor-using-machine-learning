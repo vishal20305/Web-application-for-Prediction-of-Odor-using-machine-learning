{
  "cells": [
    {
      "cell_type": "code",
      "execution_count": null,
      "metadata": {
        "id": "dUe2un6IcUSh"
      },
      "outputs": [],
      "source": [
        "import pandas as pd\n",
        "#Correlation Matrix with Heatmap\n",
        "\n",
        "import numpy as np\n",
        "import seaborn as sns\n",
        "import matplotlib.pyplot as plt\n",
        "\n",
        "\n",
        "# from pandas_profiling import ProfileReport"
      ]
    },
    {
      "cell_type": "code",
      "execution_count": null,
      "metadata": {
        "colab": {
          "base_uri": "https://localhost:8080/"
        },
        "id": "pQogdLZNhHTs",
        "outputId": "7c5d7a6d-6730-4054-cb81-198e488c2eb5"
      },
      "outputs": [
        {
          "output_type": "stream",
          "name": "stdout",
          "text": [
            "Mounted at /content/drive\n"
          ]
        }
      ],
      "source": [
        "from google.colab import drive\n",
        "drive.mount('/content/drive')"
      ]
    },
    {
      "cell_type": "code",
      "execution_count": null,
      "metadata": {
        "colab": {
          "base_uri": "https://localhost:8080/"
        },
        "id": "-fs4j1d6cVTc",
        "outputId": "8dbdd6fb-ef1a-4893-e447-12fa2e5503cd"
      },
      "outputs": [
        {
          "output_type": "stream",
          "name": "stdout",
          "text": [
            "<class 'pandas.core.frame.DataFrame'>\n",
            "RangeIndex: 3686 entries, 0 to 3685\n",
            "Columns: 1876 entries, nAcid to Primary Odor\n",
            "dtypes: float64(1449), int64(427)\n",
            "memory usage: 52.8 MB\n"
          ]
        }
      ],
      "source": [
        "# Import label encoder\n",
        "from sklearn import preprocessing\n",
        "from sklearn.impute import SimpleImputer\n",
        "old=pd.DataFrame()\n",
        "#Ordinal_encoder=preprocessing.OrdinalEncoder()\n",
        "label_encoder = preprocessing.LabelEncoder()\n",
        "dataset=pd.read_csv('/content/drive/MyDrive/1800Finaldescriptors4.csv')\n",
        "dataset['Primary Odor']= label_encoder.fit_transform(dataset['Primary Odor'])\n",
        "dataset = dataset.loc[:, ~dataset.columns.str.contains('^Unnamed')]\n",
        "#dataset.dropna(inplace=True)\n",
        "dataset.fillna(0,inplace=True)\n",
        "old['Primary Odor']=dataset['Primary Odor']\n",
        "# #df=df.astype(int)\n",
        "#dataset.drop_duplicates(inplace=True)\n",
        "#df.dropna(inplace=True)\n",
        "#df = df.loc[:, ~df.columns.str.contains('^Unnamed')]\n",
        "# df=df.drop('NsLi',axis=1)\n",
        "# df = df.loc[:, ~df.columns.str.contains('^Unnamed')]\n",
        "dataset.info()"
      ]
    },
    {
      "cell_type": "code",
      "execution_count": null,
      "metadata": {
        "colab": {
          "base_uri": "https://localhost:8080/",
          "height": 505
        },
        "id": "XnM52XDzYa1r",
        "outputId": "b252a078-c070-4c1d-8b43-6297005d7b00"
      },
      "outputs": [
        {
          "output_type": "execute_result",
          "data": {
            "text/plain": [
              "      nAcid   ALogP     ALogp2      AMR       apol  naAromAtom  nAromBond  \\\n",
              "0         0  0.8136   0.661945  35.4408  28.683516           5          5   \n",
              "1         0  1.4036   1.970093  49.1523  28.595102           0          0   \n",
              "2         0  0.6462   0.417574  45.3715  25.965516           0          0   \n",
              "3         0  1.8994   3.607720  46.8935  25.501516           0          0   \n",
              "4         0  4.3100  18.576100  74.7794  38.922274           0          0   \n",
              "...     ...     ...        ...      ...        ...         ...        ...   \n",
              "3681      0 -4.3042  18.526138  77.0271  72.486064           0          0   \n",
              "3682      0 -1.7193   2.955992  62.1684  48.965790           0          0   \n",
              "3683      0 -2.2953   5.268402  67.9916  55.152962           0          0   \n",
              "3684      0 -3.8144  14.549647  80.5168  71.152478           0          0   \n",
              "3685      0 -0.0078   0.000061  51.8647  33.497860           0          0   \n",
              "\n",
              "      nAtom  nHeavyAtom  nH  ...       P2s        E1s        E2s        E3s  \\\n",
              "0        23          11  12  ...  0.067779   0.661464   0.358538   0.349573   \n",
              "1        23           9  14  ... -0.085171  17.888089  10.394916  23.862268   \n",
              "2        22          10  12  ...  0.084518   0.407330   0.717828   0.416869   \n",
              "3        20           8  12  ...  0.042375   1.159858   0.602411   0.755817   \n",
              "4        32          14  18  ...  0.000000   0.000000   0.000000   0.000000   \n",
              "...     ...         ...  ..  ...       ...        ...        ...        ...   \n",
              "3681     71          23  48  ...  0.012996   0.573012   0.501657   0.478056   \n",
              "3682     47          17  30  ...  0.000000   0.000000   0.000000   0.000000   \n",
              "3683     53          19  34  ...  0.000000   0.000000   0.000000   0.000000   \n",
              "3684     69          23  46  ...  0.000000   0.000000   0.000000   0.000000   \n",
              "3685     32          12  20  ...  0.000000   0.000000   0.000000   0.000000   \n",
              "\n",
              "             Ts          As           Vs        Ks         Ds  Primary Odor  \n",
              "0     15.675379   23.682504    48.024171  0.842704   1.369575             0  \n",
              "1    -38.337198 -446.055427 -1497.311195  1.380321  52.145274             0  \n",
              "2     10.141274   11.173691    24.071518  0.819917   1.542027             0  \n",
              "3     17.044492   19.856628    42.728128  0.891535   2.518086             0  \n",
              "4      0.000000    0.000000     0.000000  0.000000   0.000000             0  \n",
              "...         ...         ...          ...       ...        ...           ...  \n",
              "3681  70.590693  104.178002   211.702519  0.968124   1.552725            68  \n",
              "3682   0.000000    0.000000     0.000000  0.000000   0.000000            68  \n",
              "3683   0.000000    0.000000     0.000000  0.000000   0.000000            68  \n",
              "3684   0.000000    0.000000     0.000000  0.000000   0.000000            68  \n",
              "3685   0.000000    0.000000     0.000000  0.000000   0.000000            68  \n",
              "\n",
              "[3686 rows x 1876 columns]"
            ],
            "text/html": [
              "\n",
              "  <div id=\"df-e9d61d72-c098-4744-a38d-0e4fac88d0b6\">\n",
              "    <div class=\"colab-df-container\">\n",
              "      <div>\n",
              "<style scoped>\n",
              "    .dataframe tbody tr th:only-of-type {\n",
              "        vertical-align: middle;\n",
              "    }\n",
              "\n",
              "    .dataframe tbody tr th {\n",
              "        vertical-align: top;\n",
              "    }\n",
              "\n",
              "    .dataframe thead th {\n",
              "        text-align: right;\n",
              "    }\n",
              "</style>\n",
              "<table border=\"1\" class=\"dataframe\">\n",
              "  <thead>\n",
              "    <tr style=\"text-align: right;\">\n",
              "      <th></th>\n",
              "      <th>nAcid</th>\n",
              "      <th>ALogP</th>\n",
              "      <th>ALogp2</th>\n",
              "      <th>AMR</th>\n",
              "      <th>apol</th>\n",
              "      <th>naAromAtom</th>\n",
              "      <th>nAromBond</th>\n",
              "      <th>nAtom</th>\n",
              "      <th>nHeavyAtom</th>\n",
              "      <th>nH</th>\n",
              "      <th>...</th>\n",
              "      <th>P2s</th>\n",
              "      <th>E1s</th>\n",
              "      <th>E2s</th>\n",
              "      <th>E3s</th>\n",
              "      <th>Ts</th>\n",
              "      <th>As</th>\n",
              "      <th>Vs</th>\n",
              "      <th>Ks</th>\n",
              "      <th>Ds</th>\n",
              "      <th>Primary Odor</th>\n",
              "    </tr>\n",
              "  </thead>\n",
              "  <tbody>\n",
              "    <tr>\n",
              "      <th>0</th>\n",
              "      <td>0</td>\n",
              "      <td>0.8136</td>\n",
              "      <td>0.661945</td>\n",
              "      <td>35.4408</td>\n",
              "      <td>28.683516</td>\n",
              "      <td>5</td>\n",
              "      <td>5</td>\n",
              "      <td>23</td>\n",
              "      <td>11</td>\n",
              "      <td>12</td>\n",
              "      <td>...</td>\n",
              "      <td>0.067779</td>\n",
              "      <td>0.661464</td>\n",
              "      <td>0.358538</td>\n",
              "      <td>0.349573</td>\n",
              "      <td>15.675379</td>\n",
              "      <td>23.682504</td>\n",
              "      <td>48.024171</td>\n",
              "      <td>0.842704</td>\n",
              "      <td>1.369575</td>\n",
              "      <td>0</td>\n",
              "    </tr>\n",
              "    <tr>\n",
              "      <th>1</th>\n",
              "      <td>0</td>\n",
              "      <td>1.4036</td>\n",
              "      <td>1.970093</td>\n",
              "      <td>49.1523</td>\n",
              "      <td>28.595102</td>\n",
              "      <td>0</td>\n",
              "      <td>0</td>\n",
              "      <td>23</td>\n",
              "      <td>9</td>\n",
              "      <td>14</td>\n",
              "      <td>...</td>\n",
              "      <td>-0.085171</td>\n",
              "      <td>17.888089</td>\n",
              "      <td>10.394916</td>\n",
              "      <td>23.862268</td>\n",
              "      <td>-38.337198</td>\n",
              "      <td>-446.055427</td>\n",
              "      <td>-1497.311195</td>\n",
              "      <td>1.380321</td>\n",
              "      <td>52.145274</td>\n",
              "      <td>0</td>\n",
              "    </tr>\n",
              "    <tr>\n",
              "      <th>2</th>\n",
              "      <td>0</td>\n",
              "      <td>0.6462</td>\n",
              "      <td>0.417574</td>\n",
              "      <td>45.3715</td>\n",
              "      <td>25.965516</td>\n",
              "      <td>0</td>\n",
              "      <td>0</td>\n",
              "      <td>22</td>\n",
              "      <td>10</td>\n",
              "      <td>12</td>\n",
              "      <td>...</td>\n",
              "      <td>0.084518</td>\n",
              "      <td>0.407330</td>\n",
              "      <td>0.717828</td>\n",
              "      <td>0.416869</td>\n",
              "      <td>10.141274</td>\n",
              "      <td>11.173691</td>\n",
              "      <td>24.071518</td>\n",
              "      <td>0.819917</td>\n",
              "      <td>1.542027</td>\n",
              "      <td>0</td>\n",
              "    </tr>\n",
              "    <tr>\n",
              "      <th>3</th>\n",
              "      <td>0</td>\n",
              "      <td>1.8994</td>\n",
              "      <td>3.607720</td>\n",
              "      <td>46.8935</td>\n",
              "      <td>25.501516</td>\n",
              "      <td>0</td>\n",
              "      <td>0</td>\n",
              "      <td>20</td>\n",
              "      <td>8</td>\n",
              "      <td>12</td>\n",
              "      <td>...</td>\n",
              "      <td>0.042375</td>\n",
              "      <td>1.159858</td>\n",
              "      <td>0.602411</td>\n",
              "      <td>0.755817</td>\n",
              "      <td>17.044492</td>\n",
              "      <td>19.856628</td>\n",
              "      <td>42.728128</td>\n",
              "      <td>0.891535</td>\n",
              "      <td>2.518086</td>\n",
              "      <td>0</td>\n",
              "    </tr>\n",
              "    <tr>\n",
              "      <th>4</th>\n",
              "      <td>0</td>\n",
              "      <td>4.3100</td>\n",
              "      <td>18.576100</td>\n",
              "      <td>74.7794</td>\n",
              "      <td>38.922274</td>\n",
              "      <td>0</td>\n",
              "      <td>0</td>\n",
              "      <td>32</td>\n",
              "      <td>14</td>\n",
              "      <td>18</td>\n",
              "      <td>...</td>\n",
              "      <td>0.000000</td>\n",
              "      <td>0.000000</td>\n",
              "      <td>0.000000</td>\n",
              "      <td>0.000000</td>\n",
              "      <td>0.000000</td>\n",
              "      <td>0.000000</td>\n",
              "      <td>0.000000</td>\n",
              "      <td>0.000000</td>\n",
              "      <td>0.000000</td>\n",
              "      <td>0</td>\n",
              "    </tr>\n",
              "    <tr>\n",
              "      <th>...</th>\n",
              "      <td>...</td>\n",
              "      <td>...</td>\n",
              "      <td>...</td>\n",
              "      <td>...</td>\n",
              "      <td>...</td>\n",
              "      <td>...</td>\n",
              "      <td>...</td>\n",
              "      <td>...</td>\n",
              "      <td>...</td>\n",
              "      <td>...</td>\n",
              "      <td>...</td>\n",
              "      <td>...</td>\n",
              "      <td>...</td>\n",
              "      <td>...</td>\n",
              "      <td>...</td>\n",
              "      <td>...</td>\n",
              "      <td>...</td>\n",
              "      <td>...</td>\n",
              "      <td>...</td>\n",
              "      <td>...</td>\n",
              "      <td>...</td>\n",
              "    </tr>\n",
              "    <tr>\n",
              "      <th>3681</th>\n",
              "      <td>0</td>\n",
              "      <td>-4.3042</td>\n",
              "      <td>18.526138</td>\n",
              "      <td>77.0271</td>\n",
              "      <td>72.486064</td>\n",
              "      <td>0</td>\n",
              "      <td>0</td>\n",
              "      <td>71</td>\n",
              "      <td>23</td>\n",
              "      <td>48</td>\n",
              "      <td>...</td>\n",
              "      <td>0.012996</td>\n",
              "      <td>0.573012</td>\n",
              "      <td>0.501657</td>\n",
              "      <td>0.478056</td>\n",
              "      <td>70.590693</td>\n",
              "      <td>104.178002</td>\n",
              "      <td>211.702519</td>\n",
              "      <td>0.968124</td>\n",
              "      <td>1.552725</td>\n",
              "      <td>68</td>\n",
              "    </tr>\n",
              "    <tr>\n",
              "      <th>3682</th>\n",
              "      <td>0</td>\n",
              "      <td>-1.7193</td>\n",
              "      <td>2.955992</td>\n",
              "      <td>62.1684</td>\n",
              "      <td>48.965790</td>\n",
              "      <td>0</td>\n",
              "      <td>0</td>\n",
              "      <td>47</td>\n",
              "      <td>17</td>\n",
              "      <td>30</td>\n",
              "      <td>...</td>\n",
              "      <td>0.000000</td>\n",
              "      <td>0.000000</td>\n",
              "      <td>0.000000</td>\n",
              "      <td>0.000000</td>\n",
              "      <td>0.000000</td>\n",
              "      <td>0.000000</td>\n",
              "      <td>0.000000</td>\n",
              "      <td>0.000000</td>\n",
              "      <td>0.000000</td>\n",
              "      <td>68</td>\n",
              "    </tr>\n",
              "    <tr>\n",
              "      <th>3683</th>\n",
              "      <td>0</td>\n",
              "      <td>-2.2953</td>\n",
              "      <td>5.268402</td>\n",
              "      <td>67.9916</td>\n",
              "      <td>55.152962</td>\n",
              "      <td>0</td>\n",
              "      <td>0</td>\n",
              "      <td>53</td>\n",
              "      <td>19</td>\n",
              "      <td>34</td>\n",
              "      <td>...</td>\n",
              "      <td>0.000000</td>\n",
              "      <td>0.000000</td>\n",
              "      <td>0.000000</td>\n",
              "      <td>0.000000</td>\n",
              "      <td>0.000000</td>\n",
              "      <td>0.000000</td>\n",
              "      <td>0.000000</td>\n",
              "      <td>0.000000</td>\n",
              "      <td>0.000000</td>\n",
              "      <td>68</td>\n",
              "    </tr>\n",
              "    <tr>\n",
              "      <th>3684</th>\n",
              "      <td>0</td>\n",
              "      <td>-3.8144</td>\n",
              "      <td>14.549647</td>\n",
              "      <td>80.5168</td>\n",
              "      <td>71.152478</td>\n",
              "      <td>0</td>\n",
              "      <td>0</td>\n",
              "      <td>69</td>\n",
              "      <td>23</td>\n",
              "      <td>46</td>\n",
              "      <td>...</td>\n",
              "      <td>0.000000</td>\n",
              "      <td>0.000000</td>\n",
              "      <td>0.000000</td>\n",
              "      <td>0.000000</td>\n",
              "      <td>0.000000</td>\n",
              "      <td>0.000000</td>\n",
              "      <td>0.000000</td>\n",
              "      <td>0.000000</td>\n",
              "      <td>0.000000</td>\n",
              "      <td>68</td>\n",
              "    </tr>\n",
              "    <tr>\n",
              "      <th>3685</th>\n",
              "      <td>0</td>\n",
              "      <td>-0.0078</td>\n",
              "      <td>0.000061</td>\n",
              "      <td>51.8647</td>\n",
              "      <td>33.497860</td>\n",
              "      <td>0</td>\n",
              "      <td>0</td>\n",
              "      <td>32</td>\n",
              "      <td>12</td>\n",
              "      <td>20</td>\n",
              "      <td>...</td>\n",
              "      <td>0.000000</td>\n",
              "      <td>0.000000</td>\n",
              "      <td>0.000000</td>\n",
              "      <td>0.000000</td>\n",
              "      <td>0.000000</td>\n",
              "      <td>0.000000</td>\n",
              "      <td>0.000000</td>\n",
              "      <td>0.000000</td>\n",
              "      <td>0.000000</td>\n",
              "      <td>68</td>\n",
              "    </tr>\n",
              "  </tbody>\n",
              "</table>\n",
              "<p>3686 rows × 1876 columns</p>\n",
              "</div>\n",
              "      <button class=\"colab-df-convert\" onclick=\"convertToInteractive('df-e9d61d72-c098-4744-a38d-0e4fac88d0b6')\"\n",
              "              title=\"Convert this dataframe to an interactive table.\"\n",
              "              style=\"display:none;\">\n",
              "        \n",
              "  <svg xmlns=\"http://www.w3.org/2000/svg\" height=\"24px\"viewBox=\"0 0 24 24\"\n",
              "       width=\"24px\">\n",
              "    <path d=\"M0 0h24v24H0V0z\" fill=\"none\"/>\n",
              "    <path d=\"M18.56 5.44l.94 2.06.94-2.06 2.06-.94-2.06-.94-.94-2.06-.94 2.06-2.06.94zm-11 1L8.5 8.5l.94-2.06 2.06-.94-2.06-.94L8.5 2.5l-.94 2.06-2.06.94zm10 10l.94 2.06.94-2.06 2.06-.94-2.06-.94-.94-2.06-.94 2.06-2.06.94z\"/><path d=\"M17.41 7.96l-1.37-1.37c-.4-.4-.92-.59-1.43-.59-.52 0-1.04.2-1.43.59L10.3 9.45l-7.72 7.72c-.78.78-.78 2.05 0 2.83L4 21.41c.39.39.9.59 1.41.59.51 0 1.02-.2 1.41-.59l7.78-7.78 2.81-2.81c.8-.78.8-2.07 0-2.86zM5.41 20L4 18.59l7.72-7.72 1.47 1.35L5.41 20z\"/>\n",
              "  </svg>\n",
              "      </button>\n",
              "      \n",
              "  <style>\n",
              "    .colab-df-container {\n",
              "      display:flex;\n",
              "      flex-wrap:wrap;\n",
              "      gap: 12px;\n",
              "    }\n",
              "\n",
              "    .colab-df-convert {\n",
              "      background-color: #E8F0FE;\n",
              "      border: none;\n",
              "      border-radius: 50%;\n",
              "      cursor: pointer;\n",
              "      display: none;\n",
              "      fill: #1967D2;\n",
              "      height: 32px;\n",
              "      padding: 0 0 0 0;\n",
              "      width: 32px;\n",
              "    }\n",
              "\n",
              "    .colab-df-convert:hover {\n",
              "      background-color: #E2EBFA;\n",
              "      box-shadow: 0px 1px 2px rgba(60, 64, 67, 0.3), 0px 1px 3px 1px rgba(60, 64, 67, 0.15);\n",
              "      fill: #174EA6;\n",
              "    }\n",
              "\n",
              "    [theme=dark] .colab-df-convert {\n",
              "      background-color: #3B4455;\n",
              "      fill: #D2E3FC;\n",
              "    }\n",
              "\n",
              "    [theme=dark] .colab-df-convert:hover {\n",
              "      background-color: #434B5C;\n",
              "      box-shadow: 0px 1px 3px 1px rgba(0, 0, 0, 0.15);\n",
              "      filter: drop-shadow(0px 1px 2px rgba(0, 0, 0, 0.3));\n",
              "      fill: #FFFFFF;\n",
              "    }\n",
              "  </style>\n",
              "\n",
              "      <script>\n",
              "        const buttonEl =\n",
              "          document.querySelector('#df-e9d61d72-c098-4744-a38d-0e4fac88d0b6 button.colab-df-convert');\n",
              "        buttonEl.style.display =\n",
              "          google.colab.kernel.accessAllowed ? 'block' : 'none';\n",
              "\n",
              "        async function convertToInteractive(key) {\n",
              "          const element = document.querySelector('#df-e9d61d72-c098-4744-a38d-0e4fac88d0b6');\n",
              "          const dataTable =\n",
              "            await google.colab.kernel.invokeFunction('convertToInteractive',\n",
              "                                                     [key], {});\n",
              "          if (!dataTable) return;\n",
              "\n",
              "          const docLinkHtml = 'Like what you see? Visit the ' +\n",
              "            '<a target=\"_blank\" href=https://colab.research.google.com/notebooks/data_table.ipynb>data table notebook</a>'\n",
              "            + ' to learn more about interactive tables.';\n",
              "          element.innerHTML = '';\n",
              "          dataTable['output_type'] = 'display_data';\n",
              "          await google.colab.output.renderOutput(dataTable, element);\n",
              "          const docLink = document.createElement('div');\n",
              "          docLink.innerHTML = docLinkHtml;\n",
              "          element.appendChild(docLink);\n",
              "        }\n",
              "      </script>\n",
              "    </div>\n",
              "  </div>\n",
              "  "
            ]
          },
          "metadata": {},
          "execution_count": 4
        }
      ],
      "source": [
        "dataset"
      ]
    },
    {
      "cell_type": "code",
      "execution_count": null,
      "metadata": {
        "colab": {
          "base_uri": "https://localhost:8080/",
          "height": 411
        },
        "id": "am1-dmGHX4J_",
        "outputId": "7bec8e2a-739f-4b60-d2ae-48fdeb7ad249"
      },
      "outputs": [
        {
          "output_type": "execute_result",
          "data": {
            "text/plain": [
              "             nAcid        ALogP       ALogp2          AMR         apol  \\\n",
              "count  3686.000000  3686.000000  3686.000000  3686.000000  3686.000000   \n",
              "mean      0.035811     0.240784     2.042778    40.058284    30.939267   \n",
              "std       0.198552     1.409021     4.127252    17.053784    10.379519   \n",
              "min       0.000000    -6.038400     0.000000     0.000000     2.406000   \n",
              "25%       0.000000    -0.555375     0.144552    27.534000    23.685516   \n",
              "50%       0.000000     0.234400     0.652460    39.779450    29.872688   \n",
              "75%       0.000000     1.051200     2.298862    50.229925    36.967032   \n",
              "max       3.000000    11.572600   133.925071   198.036400   115.108682   \n",
              "\n",
              "        naAromAtom    nAromBond        nAtom   nHeavyAtom           nH  ...  \\\n",
              "count  3686.000000  3686.000000  3686.000000  3686.000000  3686.000000  ...   \n",
              "mean      1.943570     1.956321    28.703201    12.072165    16.631036  ...   \n",
              "std       3.099712     3.135907    10.151061     3.830989     6.813352  ...   \n",
              "min       0.000000     0.000000     3.000000     2.000000     0.000000  ...   \n",
              "25%       0.000000     0.000000    21.000000    10.000000    12.000000  ...   \n",
              "50%       0.000000     0.000000    28.000000    12.000000    16.000000  ...   \n",
              "75%       6.000000     6.000000    35.000000    14.000000    20.000000  ...   \n",
              "max      24.000000    24.000000   113.000000    40.000000    74.000000  ...   \n",
              "\n",
              "               P2s          E1s          E2s          E3s           Ts  \\\n",
              "count  3686.000000  3686.000000  3686.000000  3686.000000  3686.000000   \n",
              "mean      0.138273     0.467919     0.377161     0.350834     8.378270   \n",
              "std       0.121851     1.763272     0.871059     2.331078     8.576227   \n",
              "min      -0.299989     0.000000     0.000000     0.000000   -38.337198   \n",
              "25%       0.000000     0.000000     0.000000     0.000000     0.000000   \n",
              "50%       0.122408     0.520368     0.437907     0.373560     7.734665   \n",
              "75%       0.228762     0.562987     0.501694     0.432625    11.056380   \n",
              "max       0.487794    83.794787    33.998688   135.223909   113.446500   \n",
              "\n",
              "                As           Vs           Ks           Ds  Primary Odor  \n",
              "count  3686.000000  3686.000000  3686.000000  3686.000000   3686.000000  \n",
              "mean     14.945506    30.090734     0.459753     1.195581     17.179327  \n",
              "std      22.912950    61.379474     0.344848     4.267271     15.004047  \n",
              "min    -446.055427 -1497.311195     0.000000     0.000000      0.000000  \n",
              "25%       0.000000     0.000000     0.000000     0.000000      5.000000  \n",
              "50%      12.735475    25.860149     0.514797     1.340391     13.000000  \n",
              "75%      21.506681    43.460827     0.720679     1.462575     30.000000  \n",
              "max     782.346230  2279.572591     7.095799   197.579218     68.000000  \n",
              "\n",
              "[8 rows x 1876 columns]"
            ],
            "text/html": [
              "\n",
              "  <div id=\"df-aade3367-5997-40f7-a396-765990641df3\">\n",
              "    <div class=\"colab-df-container\">\n",
              "      <div>\n",
              "<style scoped>\n",
              "    .dataframe tbody tr th:only-of-type {\n",
              "        vertical-align: middle;\n",
              "    }\n",
              "\n",
              "    .dataframe tbody tr th {\n",
              "        vertical-align: top;\n",
              "    }\n",
              "\n",
              "    .dataframe thead th {\n",
              "        text-align: right;\n",
              "    }\n",
              "</style>\n",
              "<table border=\"1\" class=\"dataframe\">\n",
              "  <thead>\n",
              "    <tr style=\"text-align: right;\">\n",
              "      <th></th>\n",
              "      <th>nAcid</th>\n",
              "      <th>ALogP</th>\n",
              "      <th>ALogp2</th>\n",
              "      <th>AMR</th>\n",
              "      <th>apol</th>\n",
              "      <th>naAromAtom</th>\n",
              "      <th>nAromBond</th>\n",
              "      <th>nAtom</th>\n",
              "      <th>nHeavyAtom</th>\n",
              "      <th>nH</th>\n",
              "      <th>...</th>\n",
              "      <th>P2s</th>\n",
              "      <th>E1s</th>\n",
              "      <th>E2s</th>\n",
              "      <th>E3s</th>\n",
              "      <th>Ts</th>\n",
              "      <th>As</th>\n",
              "      <th>Vs</th>\n",
              "      <th>Ks</th>\n",
              "      <th>Ds</th>\n",
              "      <th>Primary Odor</th>\n",
              "    </tr>\n",
              "  </thead>\n",
              "  <tbody>\n",
              "    <tr>\n",
              "      <th>count</th>\n",
              "      <td>3686.000000</td>\n",
              "      <td>3686.000000</td>\n",
              "      <td>3686.000000</td>\n",
              "      <td>3686.000000</td>\n",
              "      <td>3686.000000</td>\n",
              "      <td>3686.000000</td>\n",
              "      <td>3686.000000</td>\n",
              "      <td>3686.000000</td>\n",
              "      <td>3686.000000</td>\n",
              "      <td>3686.000000</td>\n",
              "      <td>...</td>\n",
              "      <td>3686.000000</td>\n",
              "      <td>3686.000000</td>\n",
              "      <td>3686.000000</td>\n",
              "      <td>3686.000000</td>\n",
              "      <td>3686.000000</td>\n",
              "      <td>3686.000000</td>\n",
              "      <td>3686.000000</td>\n",
              "      <td>3686.000000</td>\n",
              "      <td>3686.000000</td>\n",
              "      <td>3686.000000</td>\n",
              "    </tr>\n",
              "    <tr>\n",
              "      <th>mean</th>\n",
              "      <td>0.035811</td>\n",
              "      <td>0.240784</td>\n",
              "      <td>2.042778</td>\n",
              "      <td>40.058284</td>\n",
              "      <td>30.939267</td>\n",
              "      <td>1.943570</td>\n",
              "      <td>1.956321</td>\n",
              "      <td>28.703201</td>\n",
              "      <td>12.072165</td>\n",
              "      <td>16.631036</td>\n",
              "      <td>...</td>\n",
              "      <td>0.138273</td>\n",
              "      <td>0.467919</td>\n",
              "      <td>0.377161</td>\n",
              "      <td>0.350834</td>\n",
              "      <td>8.378270</td>\n",
              "      <td>14.945506</td>\n",
              "      <td>30.090734</td>\n",
              "      <td>0.459753</td>\n",
              "      <td>1.195581</td>\n",
              "      <td>17.179327</td>\n",
              "    </tr>\n",
              "    <tr>\n",
              "      <th>std</th>\n",
              "      <td>0.198552</td>\n",
              "      <td>1.409021</td>\n",
              "      <td>4.127252</td>\n",
              "      <td>17.053784</td>\n",
              "      <td>10.379519</td>\n",
              "      <td>3.099712</td>\n",
              "      <td>3.135907</td>\n",
              "      <td>10.151061</td>\n",
              "      <td>3.830989</td>\n",
              "      <td>6.813352</td>\n",
              "      <td>...</td>\n",
              "      <td>0.121851</td>\n",
              "      <td>1.763272</td>\n",
              "      <td>0.871059</td>\n",
              "      <td>2.331078</td>\n",
              "      <td>8.576227</td>\n",
              "      <td>22.912950</td>\n",
              "      <td>61.379474</td>\n",
              "      <td>0.344848</td>\n",
              "      <td>4.267271</td>\n",
              "      <td>15.004047</td>\n",
              "    </tr>\n",
              "    <tr>\n",
              "      <th>min</th>\n",
              "      <td>0.000000</td>\n",
              "      <td>-6.038400</td>\n",
              "      <td>0.000000</td>\n",
              "      <td>0.000000</td>\n",
              "      <td>2.406000</td>\n",
              "      <td>0.000000</td>\n",
              "      <td>0.000000</td>\n",
              "      <td>3.000000</td>\n",
              "      <td>2.000000</td>\n",
              "      <td>0.000000</td>\n",
              "      <td>...</td>\n",
              "      <td>-0.299989</td>\n",
              "      <td>0.000000</td>\n",
              "      <td>0.000000</td>\n",
              "      <td>0.000000</td>\n",
              "      <td>-38.337198</td>\n",
              "      <td>-446.055427</td>\n",
              "      <td>-1497.311195</td>\n",
              "      <td>0.000000</td>\n",
              "      <td>0.000000</td>\n",
              "      <td>0.000000</td>\n",
              "    </tr>\n",
              "    <tr>\n",
              "      <th>25%</th>\n",
              "      <td>0.000000</td>\n",
              "      <td>-0.555375</td>\n",
              "      <td>0.144552</td>\n",
              "      <td>27.534000</td>\n",
              "      <td>23.685516</td>\n",
              "      <td>0.000000</td>\n",
              "      <td>0.000000</td>\n",
              "      <td>21.000000</td>\n",
              "      <td>10.000000</td>\n",
              "      <td>12.000000</td>\n",
              "      <td>...</td>\n",
              "      <td>0.000000</td>\n",
              "      <td>0.000000</td>\n",
              "      <td>0.000000</td>\n",
              "      <td>0.000000</td>\n",
              "      <td>0.000000</td>\n",
              "      <td>0.000000</td>\n",
              "      <td>0.000000</td>\n",
              "      <td>0.000000</td>\n",
              "      <td>0.000000</td>\n",
              "      <td>5.000000</td>\n",
              "    </tr>\n",
              "    <tr>\n",
              "      <th>50%</th>\n",
              "      <td>0.000000</td>\n",
              "      <td>0.234400</td>\n",
              "      <td>0.652460</td>\n",
              "      <td>39.779450</td>\n",
              "      <td>29.872688</td>\n",
              "      <td>0.000000</td>\n",
              "      <td>0.000000</td>\n",
              "      <td>28.000000</td>\n",
              "      <td>12.000000</td>\n",
              "      <td>16.000000</td>\n",
              "      <td>...</td>\n",
              "      <td>0.122408</td>\n",
              "      <td>0.520368</td>\n",
              "      <td>0.437907</td>\n",
              "      <td>0.373560</td>\n",
              "      <td>7.734665</td>\n",
              "      <td>12.735475</td>\n",
              "      <td>25.860149</td>\n",
              "      <td>0.514797</td>\n",
              "      <td>1.340391</td>\n",
              "      <td>13.000000</td>\n",
              "    </tr>\n",
              "    <tr>\n",
              "      <th>75%</th>\n",
              "      <td>0.000000</td>\n",
              "      <td>1.051200</td>\n",
              "      <td>2.298862</td>\n",
              "      <td>50.229925</td>\n",
              "      <td>36.967032</td>\n",
              "      <td>6.000000</td>\n",
              "      <td>6.000000</td>\n",
              "      <td>35.000000</td>\n",
              "      <td>14.000000</td>\n",
              "      <td>20.000000</td>\n",
              "      <td>...</td>\n",
              "      <td>0.228762</td>\n",
              "      <td>0.562987</td>\n",
              "      <td>0.501694</td>\n",
              "      <td>0.432625</td>\n",
              "      <td>11.056380</td>\n",
              "      <td>21.506681</td>\n",
              "      <td>43.460827</td>\n",
              "      <td>0.720679</td>\n",
              "      <td>1.462575</td>\n",
              "      <td>30.000000</td>\n",
              "    </tr>\n",
              "    <tr>\n",
              "      <th>max</th>\n",
              "      <td>3.000000</td>\n",
              "      <td>11.572600</td>\n",
              "      <td>133.925071</td>\n",
              "      <td>198.036400</td>\n",
              "      <td>115.108682</td>\n",
              "      <td>24.000000</td>\n",
              "      <td>24.000000</td>\n",
              "      <td>113.000000</td>\n",
              "      <td>40.000000</td>\n",
              "      <td>74.000000</td>\n",
              "      <td>...</td>\n",
              "      <td>0.487794</td>\n",
              "      <td>83.794787</td>\n",
              "      <td>33.998688</td>\n",
              "      <td>135.223909</td>\n",
              "      <td>113.446500</td>\n",
              "      <td>782.346230</td>\n",
              "      <td>2279.572591</td>\n",
              "      <td>7.095799</td>\n",
              "      <td>197.579218</td>\n",
              "      <td>68.000000</td>\n",
              "    </tr>\n",
              "  </tbody>\n",
              "</table>\n",
              "<p>8 rows × 1876 columns</p>\n",
              "</div>\n",
              "      <button class=\"colab-df-convert\" onclick=\"convertToInteractive('df-aade3367-5997-40f7-a396-765990641df3')\"\n",
              "              title=\"Convert this dataframe to an interactive table.\"\n",
              "              style=\"display:none;\">\n",
              "        \n",
              "  <svg xmlns=\"http://www.w3.org/2000/svg\" height=\"24px\"viewBox=\"0 0 24 24\"\n",
              "       width=\"24px\">\n",
              "    <path d=\"M0 0h24v24H0V0z\" fill=\"none\"/>\n",
              "    <path d=\"M18.56 5.44l.94 2.06.94-2.06 2.06-.94-2.06-.94-.94-2.06-.94 2.06-2.06.94zm-11 1L8.5 8.5l.94-2.06 2.06-.94-2.06-.94L8.5 2.5l-.94 2.06-2.06.94zm10 10l.94 2.06.94-2.06 2.06-.94-2.06-.94-.94-2.06-.94 2.06-2.06.94z\"/><path d=\"M17.41 7.96l-1.37-1.37c-.4-.4-.92-.59-1.43-.59-.52 0-1.04.2-1.43.59L10.3 9.45l-7.72 7.72c-.78.78-.78 2.05 0 2.83L4 21.41c.39.39.9.59 1.41.59.51 0 1.02-.2 1.41-.59l7.78-7.78 2.81-2.81c.8-.78.8-2.07 0-2.86zM5.41 20L4 18.59l7.72-7.72 1.47 1.35L5.41 20z\"/>\n",
              "  </svg>\n",
              "      </button>\n",
              "      \n",
              "  <style>\n",
              "    .colab-df-container {\n",
              "      display:flex;\n",
              "      flex-wrap:wrap;\n",
              "      gap: 12px;\n",
              "    }\n",
              "\n",
              "    .colab-df-convert {\n",
              "      background-color: #E8F0FE;\n",
              "      border: none;\n",
              "      border-radius: 50%;\n",
              "      cursor: pointer;\n",
              "      display: none;\n",
              "      fill: #1967D2;\n",
              "      height: 32px;\n",
              "      padding: 0 0 0 0;\n",
              "      width: 32px;\n",
              "    }\n",
              "\n",
              "    .colab-df-convert:hover {\n",
              "      background-color: #E2EBFA;\n",
              "      box-shadow: 0px 1px 2px rgba(60, 64, 67, 0.3), 0px 1px 3px 1px rgba(60, 64, 67, 0.15);\n",
              "      fill: #174EA6;\n",
              "    }\n",
              "\n",
              "    [theme=dark] .colab-df-convert {\n",
              "      background-color: #3B4455;\n",
              "      fill: #D2E3FC;\n",
              "    }\n",
              "\n",
              "    [theme=dark] .colab-df-convert:hover {\n",
              "      background-color: #434B5C;\n",
              "      box-shadow: 0px 1px 3px 1px rgba(0, 0, 0, 0.15);\n",
              "      filter: drop-shadow(0px 1px 2px rgba(0, 0, 0, 0.3));\n",
              "      fill: #FFFFFF;\n",
              "    }\n",
              "  </style>\n",
              "\n",
              "      <script>\n",
              "        const buttonEl =\n",
              "          document.querySelector('#df-aade3367-5997-40f7-a396-765990641df3 button.colab-df-convert');\n",
              "        buttonEl.style.display =\n",
              "          google.colab.kernel.accessAllowed ? 'block' : 'none';\n",
              "\n",
              "        async function convertToInteractive(key) {\n",
              "          const element = document.querySelector('#df-aade3367-5997-40f7-a396-765990641df3');\n",
              "          const dataTable =\n",
              "            await google.colab.kernel.invokeFunction('convertToInteractive',\n",
              "                                                     [key], {});\n",
              "          if (!dataTable) return;\n",
              "\n",
              "          const docLinkHtml = 'Like what you see? Visit the ' +\n",
              "            '<a target=\"_blank\" href=https://colab.research.google.com/notebooks/data_table.ipynb>data table notebook</a>'\n",
              "            + ' to learn more about interactive tables.';\n",
              "          element.innerHTML = '';\n",
              "          dataTable['output_type'] = 'display_data';\n",
              "          await google.colab.output.renderOutput(dataTable, element);\n",
              "          const docLink = document.createElement('div');\n",
              "          docLink.innerHTML = docLinkHtml;\n",
              "          element.appendChild(docLink);\n",
              "        }\n",
              "      </script>\n",
              "    </div>\n",
              "  </div>\n",
              "  "
            ]
          },
          "metadata": {},
          "execution_count": 5
        }
      ],
      "source": [
        "dataset.describe()"
      ]
    },
    {
      "cell_type": "code",
      "execution_count": null,
      "metadata": {
        "id": "ATHOUsRETuUz"
      },
      "outputs": [],
      "source": [
        "\n",
        "class_counts = dataset['Primary Odor'].value_counts()\n",
        "class_weights = len(class_counts)/class_counts\n",
        "dataset = dataset.sample(\n",
        "    n=class_counts.max()*len(class_counts),\n",
        "    weights=dataset['Primary Odor'].map(class_weights), \n",
        "    replace=True)"
      ]
    },
    {
      "cell_type": "code",
      "execution_count": null,
      "metadata": {
        "colab": {
          "base_uri": "https://localhost:8080/",
          "height": 411
        },
        "id": "UzxEHtC8Tt86",
        "outputId": "036901bb-d025-49b8-ea0c-6062f39142f8"
      },
      "outputs": [
        {
          "output_type": "execute_result",
          "data": {
            "text/plain": [
              "              nAcid         ALogP        ALogp2           AMR          apol  \\\n",
              "count  40641.000000  40641.000000  40641.000000  40641.000000  40641.000000   \n",
              "mean       0.067346     -0.052097      2.223906     39.457996     31.038934   \n",
              "std        0.269453      1.490385      4.504739     17.726303     11.807334   \n",
              "min        0.000000     -6.038400      0.000000      0.000000      2.406000   \n",
              "25%        0.000000     -0.685000      0.073333     26.449000     23.065516   \n",
              "50%        0.000000      0.116800      0.503674     39.624100     29.070688   \n",
              "75%        0.000000      0.819000      2.215930     48.758700     36.486274   \n",
              "max        3.000000     11.572600    133.925071    198.036400    115.108682   \n",
              "\n",
              "         naAromAtom     nAromBond         nAtom    nHeavyAtom            nH  \\\n",
              "count  40641.000000  40641.000000  40641.000000  40641.000000  40641.000000   \n",
              "mean       1.864669      1.883049     28.924018     11.989247     16.934770   \n",
              "std        2.972924      3.023665     11.734893      4.203604      7.961203   \n",
              "min        0.000000      0.000000      3.000000      2.000000      0.000000   \n",
              "25%        0.000000      0.000000     21.000000      9.000000     12.000000   \n",
              "50%        0.000000      0.000000     27.000000     11.000000     16.000000   \n",
              "75%        6.000000      6.000000     35.000000     14.000000     20.000000   \n",
              "max       24.000000     24.000000    113.000000     40.000000     74.000000   \n",
              "\n",
              "       ...           P2s           E1s           E2s           E3s  \\\n",
              "count  ...  40641.000000  40641.000000  40641.000000  40641.000000   \n",
              "mean   ...      0.141843      0.690674      0.379020      0.335465   \n",
              "std    ...      0.123226      3.182108      0.588585      1.432749   \n",
              "min    ...     -0.299989      0.000000      0.000000      0.000000   \n",
              "25%    ...      0.013787      0.385408      0.326531      0.156722   \n",
              "50%    ...      0.136668      0.521201      0.447780      0.383511   \n",
              "75%    ...      0.235579      0.563025      0.502821      0.443549   \n",
              "max    ...      0.487794     83.794787     33.998688    135.223909   \n",
              "\n",
              "                 Ts            As            Vs            Ks            Ds  \\\n",
              "count  40641.000000  40641.000000  40641.000000  40641.000000  40641.000000   \n",
              "mean       9.186374     15.423831     31.547106      0.478890      1.405129   \n",
              "std       10.446298     19.929798     48.248596      0.328443      4.102248   \n",
              "min      -38.337198   -446.055427  -1497.311195      0.000000      0.000000   \n",
              "25%        3.790326      2.214961      5.620867      0.233001      1.137506   \n",
              "50%        7.768859     12.997635     25.810868      0.531811      1.352981   \n",
              "75%       11.042334     22.020271     44.772491      0.712439      1.460127   \n",
              "max      113.446500    782.346230   2279.572591      7.095799    197.579218   \n",
              "\n",
              "       Primary Odor  \n",
              "count  40641.000000  \n",
              "mean      33.994415  \n",
              "std       19.956569  \n",
              "min        0.000000  \n",
              "25%       17.000000  \n",
              "50%       34.000000  \n",
              "75%       51.000000  \n",
              "max       68.000000  \n",
              "\n",
              "[8 rows x 1876 columns]"
            ],
            "text/html": [
              "\n",
              "  <div id=\"df-f1ec597e-8f2d-4d0b-8901-b1e57dd2a54e\">\n",
              "    <div class=\"colab-df-container\">\n",
              "      <div>\n",
              "<style scoped>\n",
              "    .dataframe tbody tr th:only-of-type {\n",
              "        vertical-align: middle;\n",
              "    }\n",
              "\n",
              "    .dataframe tbody tr th {\n",
              "        vertical-align: top;\n",
              "    }\n",
              "\n",
              "    .dataframe thead th {\n",
              "        text-align: right;\n",
              "    }\n",
              "</style>\n",
              "<table border=\"1\" class=\"dataframe\">\n",
              "  <thead>\n",
              "    <tr style=\"text-align: right;\">\n",
              "      <th></th>\n",
              "      <th>nAcid</th>\n",
              "      <th>ALogP</th>\n",
              "      <th>ALogp2</th>\n",
              "      <th>AMR</th>\n",
              "      <th>apol</th>\n",
              "      <th>naAromAtom</th>\n",
              "      <th>nAromBond</th>\n",
              "      <th>nAtom</th>\n",
              "      <th>nHeavyAtom</th>\n",
              "      <th>nH</th>\n",
              "      <th>...</th>\n",
              "      <th>P2s</th>\n",
              "      <th>E1s</th>\n",
              "      <th>E2s</th>\n",
              "      <th>E3s</th>\n",
              "      <th>Ts</th>\n",
              "      <th>As</th>\n",
              "      <th>Vs</th>\n",
              "      <th>Ks</th>\n",
              "      <th>Ds</th>\n",
              "      <th>Primary Odor</th>\n",
              "    </tr>\n",
              "  </thead>\n",
              "  <tbody>\n",
              "    <tr>\n",
              "      <th>count</th>\n",
              "      <td>40641.000000</td>\n",
              "      <td>40641.000000</td>\n",
              "      <td>40641.000000</td>\n",
              "      <td>40641.000000</td>\n",
              "      <td>40641.000000</td>\n",
              "      <td>40641.000000</td>\n",
              "      <td>40641.000000</td>\n",
              "      <td>40641.000000</td>\n",
              "      <td>40641.000000</td>\n",
              "      <td>40641.000000</td>\n",
              "      <td>...</td>\n",
              "      <td>40641.000000</td>\n",
              "      <td>40641.000000</td>\n",
              "      <td>40641.000000</td>\n",
              "      <td>40641.000000</td>\n",
              "      <td>40641.000000</td>\n",
              "      <td>40641.000000</td>\n",
              "      <td>40641.000000</td>\n",
              "      <td>40641.000000</td>\n",
              "      <td>40641.000000</td>\n",
              "      <td>40641.000000</td>\n",
              "    </tr>\n",
              "    <tr>\n",
              "      <th>mean</th>\n",
              "      <td>0.067346</td>\n",
              "      <td>-0.052097</td>\n",
              "      <td>2.223906</td>\n",
              "      <td>39.457996</td>\n",
              "      <td>31.038934</td>\n",
              "      <td>1.864669</td>\n",
              "      <td>1.883049</td>\n",
              "      <td>28.924018</td>\n",
              "      <td>11.989247</td>\n",
              "      <td>16.934770</td>\n",
              "      <td>...</td>\n",
              "      <td>0.141843</td>\n",
              "      <td>0.690674</td>\n",
              "      <td>0.379020</td>\n",
              "      <td>0.335465</td>\n",
              "      <td>9.186374</td>\n",
              "      <td>15.423831</td>\n",
              "      <td>31.547106</td>\n",
              "      <td>0.478890</td>\n",
              "      <td>1.405129</td>\n",
              "      <td>33.994415</td>\n",
              "    </tr>\n",
              "    <tr>\n",
              "      <th>std</th>\n",
              "      <td>0.269453</td>\n",
              "      <td>1.490385</td>\n",
              "      <td>4.504739</td>\n",
              "      <td>17.726303</td>\n",
              "      <td>11.807334</td>\n",
              "      <td>2.972924</td>\n",
              "      <td>3.023665</td>\n",
              "      <td>11.734893</td>\n",
              "      <td>4.203604</td>\n",
              "      <td>7.961203</td>\n",
              "      <td>...</td>\n",
              "      <td>0.123226</td>\n",
              "      <td>3.182108</td>\n",
              "      <td>0.588585</td>\n",
              "      <td>1.432749</td>\n",
              "      <td>10.446298</td>\n",
              "      <td>19.929798</td>\n",
              "      <td>48.248596</td>\n",
              "      <td>0.328443</td>\n",
              "      <td>4.102248</td>\n",
              "      <td>19.956569</td>\n",
              "    </tr>\n",
              "    <tr>\n",
              "      <th>min</th>\n",
              "      <td>0.000000</td>\n",
              "      <td>-6.038400</td>\n",
              "      <td>0.000000</td>\n",
              "      <td>0.000000</td>\n",
              "      <td>2.406000</td>\n",
              "      <td>0.000000</td>\n",
              "      <td>0.000000</td>\n",
              "      <td>3.000000</td>\n",
              "      <td>2.000000</td>\n",
              "      <td>0.000000</td>\n",
              "      <td>...</td>\n",
              "      <td>-0.299989</td>\n",
              "      <td>0.000000</td>\n",
              "      <td>0.000000</td>\n",
              "      <td>0.000000</td>\n",
              "      <td>-38.337198</td>\n",
              "      <td>-446.055427</td>\n",
              "      <td>-1497.311195</td>\n",
              "      <td>0.000000</td>\n",
              "      <td>0.000000</td>\n",
              "      <td>0.000000</td>\n",
              "    </tr>\n",
              "    <tr>\n",
              "      <th>25%</th>\n",
              "      <td>0.000000</td>\n",
              "      <td>-0.685000</td>\n",
              "      <td>0.073333</td>\n",
              "      <td>26.449000</td>\n",
              "      <td>23.065516</td>\n",
              "      <td>0.000000</td>\n",
              "      <td>0.000000</td>\n",
              "      <td>21.000000</td>\n",
              "      <td>9.000000</td>\n",
              "      <td>12.000000</td>\n",
              "      <td>...</td>\n",
              "      <td>0.013787</td>\n",
              "      <td>0.385408</td>\n",
              "      <td>0.326531</td>\n",
              "      <td>0.156722</td>\n",
              "      <td>3.790326</td>\n",
              "      <td>2.214961</td>\n",
              "      <td>5.620867</td>\n",
              "      <td>0.233001</td>\n",
              "      <td>1.137506</td>\n",
              "      <td>17.000000</td>\n",
              "    </tr>\n",
              "    <tr>\n",
              "      <th>50%</th>\n",
              "      <td>0.000000</td>\n",
              "      <td>0.116800</td>\n",
              "      <td>0.503674</td>\n",
              "      <td>39.624100</td>\n",
              "      <td>29.070688</td>\n",
              "      <td>0.000000</td>\n",
              "      <td>0.000000</td>\n",
              "      <td>27.000000</td>\n",
              "      <td>11.000000</td>\n",
              "      <td>16.000000</td>\n",
              "      <td>...</td>\n",
              "      <td>0.136668</td>\n",
              "      <td>0.521201</td>\n",
              "      <td>0.447780</td>\n",
              "      <td>0.383511</td>\n",
              "      <td>7.768859</td>\n",
              "      <td>12.997635</td>\n",
              "      <td>25.810868</td>\n",
              "      <td>0.531811</td>\n",
              "      <td>1.352981</td>\n",
              "      <td>34.000000</td>\n",
              "    </tr>\n",
              "    <tr>\n",
              "      <th>75%</th>\n",
              "      <td>0.000000</td>\n",
              "      <td>0.819000</td>\n",
              "      <td>2.215930</td>\n",
              "      <td>48.758700</td>\n",
              "      <td>36.486274</td>\n",
              "      <td>6.000000</td>\n",
              "      <td>6.000000</td>\n",
              "      <td>35.000000</td>\n",
              "      <td>14.000000</td>\n",
              "      <td>20.000000</td>\n",
              "      <td>...</td>\n",
              "      <td>0.235579</td>\n",
              "      <td>0.563025</td>\n",
              "      <td>0.502821</td>\n",
              "      <td>0.443549</td>\n",
              "      <td>11.042334</td>\n",
              "      <td>22.020271</td>\n",
              "      <td>44.772491</td>\n",
              "      <td>0.712439</td>\n",
              "      <td>1.460127</td>\n",
              "      <td>51.000000</td>\n",
              "    </tr>\n",
              "    <tr>\n",
              "      <th>max</th>\n",
              "      <td>3.000000</td>\n",
              "      <td>11.572600</td>\n",
              "      <td>133.925071</td>\n",
              "      <td>198.036400</td>\n",
              "      <td>115.108682</td>\n",
              "      <td>24.000000</td>\n",
              "      <td>24.000000</td>\n",
              "      <td>113.000000</td>\n",
              "      <td>40.000000</td>\n",
              "      <td>74.000000</td>\n",
              "      <td>...</td>\n",
              "      <td>0.487794</td>\n",
              "      <td>83.794787</td>\n",
              "      <td>33.998688</td>\n",
              "      <td>135.223909</td>\n",
              "      <td>113.446500</td>\n",
              "      <td>782.346230</td>\n",
              "      <td>2279.572591</td>\n",
              "      <td>7.095799</td>\n",
              "      <td>197.579218</td>\n",
              "      <td>68.000000</td>\n",
              "    </tr>\n",
              "  </tbody>\n",
              "</table>\n",
              "<p>8 rows × 1876 columns</p>\n",
              "</div>\n",
              "      <button class=\"colab-df-convert\" onclick=\"convertToInteractive('df-f1ec597e-8f2d-4d0b-8901-b1e57dd2a54e')\"\n",
              "              title=\"Convert this dataframe to an interactive table.\"\n",
              "              style=\"display:none;\">\n",
              "        \n",
              "  <svg xmlns=\"http://www.w3.org/2000/svg\" height=\"24px\"viewBox=\"0 0 24 24\"\n",
              "       width=\"24px\">\n",
              "    <path d=\"M0 0h24v24H0V0z\" fill=\"none\"/>\n",
              "    <path d=\"M18.56 5.44l.94 2.06.94-2.06 2.06-.94-2.06-.94-.94-2.06-.94 2.06-2.06.94zm-11 1L8.5 8.5l.94-2.06 2.06-.94-2.06-.94L8.5 2.5l-.94 2.06-2.06.94zm10 10l.94 2.06.94-2.06 2.06-.94-2.06-.94-.94-2.06-.94 2.06-2.06.94z\"/><path d=\"M17.41 7.96l-1.37-1.37c-.4-.4-.92-.59-1.43-.59-.52 0-1.04.2-1.43.59L10.3 9.45l-7.72 7.72c-.78.78-.78 2.05 0 2.83L4 21.41c.39.39.9.59 1.41.59.51 0 1.02-.2 1.41-.59l7.78-7.78 2.81-2.81c.8-.78.8-2.07 0-2.86zM5.41 20L4 18.59l7.72-7.72 1.47 1.35L5.41 20z\"/>\n",
              "  </svg>\n",
              "      </button>\n",
              "      \n",
              "  <style>\n",
              "    .colab-df-container {\n",
              "      display:flex;\n",
              "      flex-wrap:wrap;\n",
              "      gap: 12px;\n",
              "    }\n",
              "\n",
              "    .colab-df-convert {\n",
              "      background-color: #E8F0FE;\n",
              "      border: none;\n",
              "      border-radius: 50%;\n",
              "      cursor: pointer;\n",
              "      display: none;\n",
              "      fill: #1967D2;\n",
              "      height: 32px;\n",
              "      padding: 0 0 0 0;\n",
              "      width: 32px;\n",
              "    }\n",
              "\n",
              "    .colab-df-convert:hover {\n",
              "      background-color: #E2EBFA;\n",
              "      box-shadow: 0px 1px 2px rgba(60, 64, 67, 0.3), 0px 1px 3px 1px rgba(60, 64, 67, 0.15);\n",
              "      fill: #174EA6;\n",
              "    }\n",
              "\n",
              "    [theme=dark] .colab-df-convert {\n",
              "      background-color: #3B4455;\n",
              "      fill: #D2E3FC;\n",
              "    }\n",
              "\n",
              "    [theme=dark] .colab-df-convert:hover {\n",
              "      background-color: #434B5C;\n",
              "      box-shadow: 0px 1px 3px 1px rgba(0, 0, 0, 0.15);\n",
              "      filter: drop-shadow(0px 1px 2px rgba(0, 0, 0, 0.3));\n",
              "      fill: #FFFFFF;\n",
              "    }\n",
              "  </style>\n",
              "\n",
              "      <script>\n",
              "        const buttonEl =\n",
              "          document.querySelector('#df-f1ec597e-8f2d-4d0b-8901-b1e57dd2a54e button.colab-df-convert');\n",
              "        buttonEl.style.display =\n",
              "          google.colab.kernel.accessAllowed ? 'block' : 'none';\n",
              "\n",
              "        async function convertToInteractive(key) {\n",
              "          const element = document.querySelector('#df-f1ec597e-8f2d-4d0b-8901-b1e57dd2a54e');\n",
              "          const dataTable =\n",
              "            await google.colab.kernel.invokeFunction('convertToInteractive',\n",
              "                                                     [key], {});\n",
              "          if (!dataTable) return;\n",
              "\n",
              "          const docLinkHtml = 'Like what you see? Visit the ' +\n",
              "            '<a target=\"_blank\" href=https://colab.research.google.com/notebooks/data_table.ipynb>data table notebook</a>'\n",
              "            + ' to learn more about interactive tables.';\n",
              "          element.innerHTML = '';\n",
              "          dataTable['output_type'] = 'display_data';\n",
              "          await google.colab.output.renderOutput(dataTable, element);\n",
              "          const docLink = document.createElement('div');\n",
              "          docLink.innerHTML = docLinkHtml;\n",
              "          element.appendChild(docLink);\n",
              "        }\n",
              "      </script>\n",
              "    </div>\n",
              "  </div>\n",
              "  "
            ]
          },
          "metadata": {},
          "execution_count": 7
        }
      ],
      "source": [
        "dataset.describe()"
      ]
    },
    {
      "cell_type": "code",
      "execution_count": null,
      "metadata": {
        "colab": {
          "base_uri": "https://localhost:8080/",
          "height": 935
        },
        "id": "EvD06_w0TxQm",
        "outputId": "768489b7-6ce1-4538-b5fb-758cb99aec3a"
      },
      "outputs": [
        {
          "output_type": "display_data",
          "data": {
            "text/plain": [
              "<Figure size 7200x7200 with 1 Axes>"
            ],
            "image/png": "[encoded data removed]"
          },
          "metadata": {
            "needs_background": "light"
          }
        }
      ],
      "source": [
        "plt.figure(figsize=(100,100))\n",
        "sns.countplot(y=dataset['Primary Odor'] ,data=dataset)\n",
        "\n",
        "plt.xlabel(\"Count of each Target class\")\n",
        "plt.ylabel(\"Target classes\")\n",
        "plt.show()"
      ]
    },
    {
      "cell_type": "code",
      "execution_count": null,
      "metadata": {
        "colab": {
          "base_uri": "https://localhost:8080/"
        },
        "id": "SATjbWQQDIa6",
        "outputId": "beaa819a-c84b-4e5d-eb94-95d6696ba3f3"
      },
      "outputs": [
        {
          "output_type": "stream",
          "name": "stdout",
          "text": [
            "nS              0.208533\n",
            "AATS8i          0.207252\n",
            "AATSC1i         0.206670\n",
            "MATS1i          0.204182\n",
            "SM1_Dzs         0.224002\n",
            "SpMin6_Bhm      0.211634\n",
            "SpMin7_Bhm      0.214193\n",
            "minHBa          0.200198\n",
            "gmin            0.227193\n",
            "MAXDN           0.217826\n",
            "ETA_Psi_1       0.205129\n",
            "ETA_dPsi_A      0.205983\n",
            "Primary Odor    1.000000\n",
            "Name: Primary Odor, dtype: float64\n"
          ]
        }
      ],
      "source": [
        "#Using Pearson Correlation\n",
        "# plt.figure(figsize=(200,200))\n",
        "\n",
        "cor = dataset.corr(method='pearson')\n",
        "# sns.heatmap(cor, annot=True, cmap=plt.cm.Reds)\n",
        "# plt.show()\n",
        "#Correlation with output variable\n",
        "\n",
        "cor_target= abs(cor['Primary Odor'])\n",
        "\n",
        "\n",
        "#Selecting highly correlated features\n",
        "relevant_features = cor_target[cor_target>0.2]\n",
        "\n",
        "print(relevant_features)"
      ]
    },
    {
      "cell_type": "code",
      "execution_count": null,
      "metadata": {
        "colab": {
          "base_uri": "https://localhost:8080/"
        },
        "id": "xdK5IgZAcPcZ",
        "outputId": "e66231aa-0cac-42db-e9bc-0d9108799c90"
      },
      "outputs": [
        {
          "output_type": "stream",
          "name": "stdout",
          "text": [
            "13\n"
          ]
        }
      ],
      "source": [
        "print(len(relevant_features.keys()))"
      ]
    },
    {
      "cell_type": "code",
      "execution_count": null,
      "metadata": {
        "id": "OweDbUGO5QL5"
      },
      "outputs": [],
      "source": [
        "# #take only integer values and make dummies\n",
        "\n",
        "# df=dataset.select_dtypes(include='int64')\n",
        "# df=df.drop('Primary Odor',axis=1)\n",
        "# df = pd.get_dummies(dataset, columns = df.columns)\n",
        "# for i in df.columns:\n",
        "#   df[i].fillna(value=0, inplace=True)\n",
        "# df['Primary Odor']=dataset['Primary Odor']"
      ]
    },
    {
      "cell_type": "code",
      "execution_count": null,
      "metadata": {
        "id": "BRTtuDZ2k-jk"
      },
      "outputs": [],
      "source": [
        "# #removing all the columns which have less that 1 unique values\n",
        "# for col in dataset.columns:\n",
        "#     if len(dataset[col].unique()) <= 1:\n",
        "#         dataset.drop(col,inplace=True,axis=1)\n",
        "# dataset.info()  "
      ]
    },
    {
      "cell_type": "code",
      "execution_count": null,
      "metadata": {
        "id": "3N8mspluPU3c"
      },
      "outputs": [],
      "source": [
        "# categorical_val = []\n",
        "# continous_val = []\n",
        "# print('==============================')\n",
        "# print(dataset.nunique(axis=0))\n",
        "# for column in dataset.columns:\n",
        "    \n",
        "#     #print(f\"{column} : {df[column].unique()}\")\n",
        "    \n",
        "#     if len(dataset[column].unique()) < 10:\n",
        "#         categorical_val.append(column)\n",
        "#     else:\n",
        "#         continous_val.append(column)"
      ]
    },
    {
      "cell_type": "code",
      "execution_count": null,
      "metadata": {
        "id": "uZV3ouiEPkxY"
      },
      "outputs": [],
      "source": [
        ""
      ]
    },
    {
      "cell_type": "code",
      "execution_count": null,
      "metadata": {
        "id": "mcJm1UNYVAtk"
      },
      "outputs": [],
      "source": [
        "# for i in categorical_val:\n",
        "#   dataset[i].fillna(value=0, inplace=True)\n",
        "# for x in continous_val:\n",
        "#   mean_value=dataset[x].mean()\n",
        "#   dataset[x].fillna(value=mean_value, inplace=True)"
      ]
    },
    {
      "cell_type": "code",
      "execution_count": null,
      "metadata": {
        "id": "1_oYYV-Lc4mV"
      },
      "outputs": [],
      "source": [
        ""
      ]
    },
    {
      "cell_type": "code",
      "execution_count": null,
      "metadata": {
        "id": "O74ku-5EP1QE"
      },
      "outputs": [],
      "source": [
        "# #Make categorical dummies and continues as scaled\n",
        "# df = pd.get_dummies(dataset, columns = categorical_val)\n",
        "# from sklearn.preprocessing import StandardScaler\n",
        "# continous_val.remove('Primary Odor')\n",
        "# s_sc = StandardScaler()\n",
        "# col_to_scale = continous_val\n",
        "# df[col_to_scale] = s_sc.fit_transform(dataset[col_to_scale])"
      ]
    },
    {
      "cell_type": "code",
      "execution_count": null,
      "metadata": {
        "id": "lSCkv4WIZQ8t"
      },
      "outputs": [],
      "source": [
        "# df['Primary Odor']=dataset['Primary Odor']\n",
        "# df.info()"
      ]
    },
    {
      "cell_type": "code",
      "execution_count": null,
      "metadata": {
        "id": "sRwoDfOW3hIK"
      },
      "outputs": [],
      "source": [
        "df=dataset"
      ]
    },
    {
      "cell_type": "code",
      "execution_count": null,
      "metadata": {
        "id": "D2vLqHk5WqNy"
      },
      "outputs": [],
      "source": [
        ""
      ]
    },
    {
      "cell_type": "code",
      "execution_count": null,
      "metadata": {
        "id": "cb3ALA0uXrEl"
      },
      "outputs": [],
      "source": [
        ""
      ]
    },
    {
      "cell_type": "code",
      "execution_count": null,
      "metadata": {
        "id": "ESQEMRzuX17H"
      },
      "outputs": [],
      "source": [
        ""
      ]
    },
    {
      "cell_type": "code",
      "execution_count": null,
      "metadata": {
        "id": "vDtiZbtgX-qR"
      },
      "outputs": [],
      "source": [
        ""
      ]
    },
    {
      "cell_type": "code",
      "execution_count": null,
      "metadata": {
        "id": "mhsvEpDscZOc"
      },
      "outputs": [],
      "source": [
        "\n"
      ]
    },
    {
      "cell_type": "code",
      "execution_count": null,
      "metadata": {
        "id": "4e0HUehENAbv"
      },
      "outputs": [],
      "source": [
        "# #Using Pearson Correlation\n",
        "# # plt.figure(figsize=(200,200))\n",
        "# cor = df.corr(method='pearson')\n",
        "# # sns.heatmap(cor, annot=True, cmap=plt.cm.Reds)\n",
        "# # plt.show()\n",
        "# #Correlation with output variable\n",
        "# cor_target = abs(cor[\"Primary Odor\"])\n",
        "# #Selecting highly correlated features\n",
        "# relevant_features = cor_target[cor_target>0.2]\n",
        "# print(len(relevant_features.keys()))\n",
        "# print(relevant_features)"
      ]
    },
    {
      "cell_type": "code",
      "execution_count": null,
      "metadata": {
        "colab": {
          "base_uri": "https://localhost:8080/"
        },
        "id": "FwLJWPxKmNLg",
        "outputId": "a384f88d-f5c5-446e-c08b-e5ab425ce579"
      },
      "outputs": [
        {
          "output_type": "stream",
          "name": "stdout",
          "text": [
            "Index(['nS', 'AATS8i', 'AATSC1i', 'MATS1i', 'SM1_Dzs', 'SpMin6_Bhm',\n",
            "       'SpMin7_Bhm', 'minHBa', 'gmin', 'MAXDN', 'ETA_Psi_1', 'ETA_dPsi_A',\n",
            "       'Primary Odor'],\n",
            "      dtype='object')\n",
            "13\n"
          ]
        }
      ],
      "source": [
        "\n",
        "print(relevant_features.keys())\n",
        "print(len(relevant_features.keys()))\n"
      ]
    },
    {
      "cell_type": "code",
      "execution_count": null,
      "metadata": {
        "id": "bqAj9PkWB7Hc"
      },
      "outputs": [],
      "source": [
        "import numpy as np\n",
        "def trimm_correlated(df_in, threshold):\n",
        "    df_corr = df_in.corr(method='pearson')\n",
        "    df_not_correlated = ~(df_corr.mask(np.tril(np.ones([len(df_corr)]*2, dtype=bool))).abs() > threshold).any()\n",
        "    un_corr_idx = df_not_correlated.loc[df_not_correlated[df_not_correlated.index] == True].index\n",
        "    df_out = df_in[un_corr_idx]\n",
        "    return df_out\n",
        "data=trimm_correlated(df[relevant_features.keys()],0.99)  "
      ]
    },
    {
      "cell_type": "code",
      "execution_count": null,
      "metadata": {
        "colab": {
          "base_uri": "https://localhost:8080/"
        },
        "id": "yS4A3xOUCWnS",
        "outputId": "004493e1-0481-4aef-f9b2-4ea5514f1fbe"
      },
      "outputs": [
        {
          "output_type": "execute_result",
          "data": {
            "text/plain": [
              "12"
            ]
          },
          "metadata": {},
          "execution_count": 50
        }
      ],
      "source": [
        "len(data.columns)"
      ]
    },
    {
      "cell_type": "code",
      "execution_count": null,
      "metadata": {
        "colab": {
          "base_uri": "https://localhost:8080/",
          "height": 760
        },
        "id": "UyG3zbzXCfZk",
        "outputId": "d3406c31-e009-433a-de96-d16e0ed80f75"
      },
      "outputs": [
        {
          "output_type": "display_data",
          "data": {
            "text/plain": [
              "<Figure size 864x864 with 2 Axes>"
            ],
            "image/png": "[encoded data removed]"
          },
          "metadata": {
            "needs_background": "light"
          }
        }
      ],
      "source": [
        "\n",
        "#Correlation Matrix with Heatmap\n",
        "import pandas as pd\n",
        "import numpy as np\n",
        "import seaborn as sns\n",
        "import matplotlib.pyplot as plt\n",
        "\n",
        "#get correlations of each features in dataset\n",
        "corrmat =data.corr()\n",
        "top_corr_features = corrmat.index\n",
        "plt.figure(figsize=(12,12))\n",
        "#plot heat map\n",
        "g=sns.heatmap(data[top_corr_features].corr(),annot=True,cmap=\"RdYlGn\")"
      ]
    },
    {
      "cell_type": "code",
      "execution_count": null,
      "metadata": {
        "id": "2GdHwenRm-2f"
      },
      "outputs": [],
      "source": [
        "from sklearn.model_selection import train_test_split\n",
        "from imblearn.over_sampling import RandomOverSampler\n",
        "from imblearn.under_sampling import RandomUnderSampler\n",
        "from sklearn.ensemble import RandomForestClassifier\n",
        "\n",
        "X = data\n",
        "X= X.drop('Primary Odor',axis=1)\n",
        "y = df['Primary Odor']"
      ]
    },
    {
      "cell_type": "code",
      "execution_count": null,
      "metadata": {
        "colab": {
          "base_uri": "https://localhost:8080/"
        },
        "id": "0cPFPFEYBnzS",
        "outputId": "861672fc-8472-40ab-fd72-3c135b840205"
      },
      "outputs": [
        {
          "output_type": "stream",
          "name": "stdout",
          "text": [
            "         Specs     Score\n",
            "8         gmin  3.944969\n",
            "9        MAXDN  3.939400\n",
            "4      SM1_Dzs  3.768303\n",
            "7       minHBa  3.690689\n",
            "5   SpMin6_Bhm  3.570764\n",
            "3       MATS1i  3.371739\n",
            "2      AATSC1i  3.361229\n",
            "6   SpMin7_Bhm  3.352407\n",
            "1       AATS8i  2.461639\n",
            "10   ETA_Psi_1  2.157084\n"
          ]
        }
      ],
      "source": [
        "#Univariate Selection\n",
        "import pandas as pd\n",
        "import numpy as np\n",
        "from sklearn.feature_selection import SelectKBest\n",
        "from sklearn.feature_selection import mutual_info_classif\n",
        "# X=df.drop('Primary Odor', axis=1)\n",
        "# y=df['Primary Odor']\n",
        "#apply SelectKBest class to extract top 15 best features\n",
        "bestfeatures = SelectKBest(score_func=mutual_info_classif, k=10)\n",
        "fit = bestfeatures.fit(X,y)\n",
        "dfscores = pd.DataFrame(fit.scores_)\n",
        "dfcolumns = pd.DataFrame(X.columns)\n",
        "#concat two dataframes for better visualization \n",
        "featureScores = pd.concat([dfcolumns,dfscores],axis=1)\n",
        "featureScores.columns = ['Specs','Score']  #naming the dataframe columns\n",
        "print(featureScores.nlargest(10,'Score'))  #print 10 best features"
      ]
    },
    {
      "cell_type": "code",
      "execution_count": null,
      "metadata": {
        "colab": {
          "base_uri": "https://localhost:8080/",
          "height": 300
        },
        "id": "QOQa29K7ByKd",
        "outputId": "0cf11a0a-fcc8-4ce4-8beb-80f6c59df7ec"
      },
      "outputs": [
        {
          "output_type": "stream",
          "name": "stdout",
          "text": [
            "[0.00808178 0.09189165 0.09150641 0.09476232 0.09340452 0.1173521\n",
            " 0.1043735  0.10511883 0.10454708 0.10599273 0.08296906]\n"
          ]
        },
        {
          "output_type": "display_data",
          "data": {
            "text/plain": [
              "<Figure size 432x288 with 1 Axes>"
            ],
            "image/png": "[encoded data removed]"
          },
          "metadata": {
            "needs_background": "light"
          }
        }
      ],
      "source": [
        "#Feature Importance By smallest connection\n",
        "import pandas as pd\n",
        "import numpy as np\n",
        "\n",
        "# X=df.drop('Primary Odor', axis=1)\n",
        "# y=df['Primary Odor']\n",
        "from sklearn.ensemble import ExtraTreesClassifier\n",
        "import matplotlib.pyplot as plt\n",
        "model = ExtraTreesClassifier()\n",
        "model.fit(X,y)\n",
        "print(model.feature_importances_) #use inbuilt class feature_importances of tree based classifiers\n",
        "#plot graph of feature importances for better visualization\n",
        "feat_importances = pd.Series(model.feature_importances_, index=X.columns)\n",
        "feat_importances.nsmallest(10).plot(kind='barh')\n",
        "plt.show()"
      ]
    },
    {
      "cell_type": "code",
      "execution_count": null,
      "metadata": {
        "colab": {
          "base_uri": "https://localhost:8080/",
          "height": 300
        },
        "id": "Ex9GYqgxGt0o",
        "outputId": "52aca5d4-5402-4435-a56c-8b40bbfeb4ab"
      },
      "outputs": [
        {
          "output_type": "stream",
          "name": "stdout",
          "text": [
            "[0.00473399 0.07576709 0.0961076  0.09182038 0.11713507 0.10390511\n",
            " 0.10019991 0.10316517 0.11684232 0.12633645 0.06398689]\n"
          ]
        },
        {
          "output_type": "display_data",
          "data": {
            "text/plain": [
              "<Figure size 432x288 with 1 Axes>"
            ],
            "image/png": "[encoded data removed]"
          },
          "metadata": {
            "needs_background": "light"
          }
        }
      ],
      "source": [
        "#Feature Importance By largest connection\n",
        "import pandas as pd\n",
        "import numpy as np\n",
        "\n",
        "# X=df.drop('Primary Odor', axis=1)\n",
        "# y=df['Primary Odor']\n",
        "from sklearn.ensemble import ExtraTreesClassifier\n",
        "from sklearn.ensemble import RandomForestClassifier\n",
        "import matplotlib.pyplot as plt\n",
        "model = RandomForestClassifier()\n",
        "model.fit(X,y)\n",
        "print(model.feature_importances_) #use inbuilt class feature_importances of tree based classifiers\n",
        "#plot graph of feature importances for better visualization\n",
        "feat_importances = pd.Series(model.feature_importances_, index=X.columns)\n",
        "feat_importances.nlargest(10).plot(kind='barh')\n",
        "plt.show()"
      ]
    },
    {
      "cell_type": "code",
      "source": [
        "X.diff().hist(figsize=(10, 10))"
      ],
      "metadata": {
        "colab": {
          "base_uri": "https://localhost:8080/",
          "height": 833
        },
        "id": "VwzatpdZMi39",
        "outputId": "a103dedd-d57a-4711-8135-139ddc5daf8d"
      },
      "execution_count": null,
      "outputs": [
        {
          "output_type": "execute_result",
          "data": {
            "text/plain": [
              "array([[<matplotlib.axes._subplots.AxesSubplot object at 0x7fa5f91f3b90>,\n",
              "        <matplotlib.axes._subplots.AxesSubplot object at 0x7fa5f908b5d0>,\n",
              "        <matplotlib.axes._subplots.AxesSubplot object at 0x7fa5f9042a90>],\n",
              "       [<matplotlib.axes._subplots.AxesSubplot object at 0x7fa5f8ff7f90>,\n",
              "        <matplotlib.axes._subplots.AxesSubplot object at 0x7fa5f8fbb4d0>,\n",
              "        <matplotlib.axes._subplots.AxesSubplot object at 0x7fa5f8f729d0>],\n",
              "       [<matplotlib.axes._subplots.AxesSubplot object at 0x7fa5f8f29f50>,\n",
              "        <matplotlib.axes._subplots.AxesSubplot object at 0x7fa5f8eed3d0>,\n",
              "        <matplotlib.axes._subplots.AxesSubplot object at 0x7fa5f8eed410>],\n",
              "       [<matplotlib.axes._subplots.AxesSubplot object at 0x7fa5f8f22a10>,\n",
              "        <matplotlib.axes._subplots.AxesSubplot object at 0x7fa5f8e9c350>,\n",
              "        <matplotlib.axes._subplots.AxesSubplot object at 0x7fa5f8e52850>]],\n",
              "      dtype=object)"
            ]
          },
          "metadata": {},
          "execution_count": 64
        },
        {
          "output_type": "display_data",
          "data": {
            "text/plain": [
              "<Figure size 720x720 with 12 Axes>"
            ],
            "image/png": "[encoded data removed]"
          },
          "metadata": {
            "needs_background": "light"
          }
        }
      ]
    },
    {
      "cell_type": "code",
      "execution_count": null,
      "metadata": {
        "colab": {
          "base_uri": "https://localhost:8080/"
        },
        "id": "kmFSs162_mCD",
        "outputId": "c51d8a81-dfc4-4783-e38e-402f52ac1e23"
      },
      "outputs": [
        {
          "output_type": "stream",
          "name": "stdout",
          "text": [
            "Index(['nS', 'AATS8i', 'AATSC1i', 'MATS1i', 'SM1_Dzs', 'SpMin6_Bhm',\n",
            "       'SpMin7_Bhm', 'minHBa', 'gmin', 'MAXDN', 'ETA_Psi_1', 'Primary Odor'],\n",
            "      dtype='object')\n",
            "12\n"
          ]
        }
      ],
      "source": [
        "print(data.columns)\n",
        "print(len(data.columns))"
      ]
    },
    {
      "cell_type": "code",
      "execution_count": null,
      "metadata": {
        "colab": {
          "base_uri": "https://localhost:8080/"
        },
        "id": "tbDR1LYIX7OG",
        "outputId": "e133f762-3c77-4767-a900-5e97cc02ead4"
      },
      "outputs": [
        {
          "output_type": "stream",
          "name": "stdout",
          "text": [
            "(40641, 11) (40641,)\n"
          ]
        }
      ],
      "source": [
        "print(X.shape,y.shape)"
      ]
    },
    {
      "cell_type": "code",
      "execution_count": null,
      "metadata": {
        "id": "HV2jYBF1LBve"
      },
      "outputs": [],
      "source": [
        "# from mlxtend.feature_selection import SequentialFeatureSelector as SFS\n",
        "\n",
        "# RF = RandomForestClassifier()\n",
        "# sfs1 = SFS(RF, \n",
        "#            k_features=10, \n",
        "#            forward=True, \n",
        "#            floating=True, \n",
        "#            verbose=2,\n",
        "#            scoring='accuracy',\n",
        "#            cv=0)\n",
        "\n",
        "# sfs1 = sfs1.fit(X, y)"
      ]
    },
    {
      "cell_type": "code",
      "execution_count": null,
      "metadata": {
        "id": "vfjmDd3EccW1"
      },
      "outputs": [],
      "source": [
        "# from imblearn.over_sampling import RandomOverSampler\n",
        "# oversample = RandomOverSampler(sampling_strategy='minority')\n",
        "# X, y = oversample.fit_resample(X, y)"
      ]
    },
    {
      "cell_type": "code",
      "execution_count": null,
      "metadata": {
        "id": "EKelhM8Uyj0v"
      },
      "outputs": [],
      "source": [
        "# print(len(data.columns))\n",
        "\n"
      ]
    },
    {
      "cell_type": "code",
      "execution_count": null,
      "metadata": {
        "id": "tfsE6eSWSQpX"
      },
      "outputs": [],
      "source": [
        ""
      ]
    },
    {
      "cell_type": "code",
      "execution_count": null,
      "metadata": {
        "id": "nppsE2Zbce7g"
      },
      "outputs": [],
      "source": [
        "\n",
        "X_train, X_test, y_train, y_test = train_test_split(X, y, test_size=0.2, random_state=42)\n"
      ]
    },
    {
      "cell_type": "code",
      "execution_count": null,
      "metadata": {
        "id": "RYMUWtMoZncv"
      },
      "outputs": [],
      "source": [
        ""
      ]
    },
    {
      "cell_type": "code",
      "execution_count": null,
      "metadata": {
        "id": "ZdIfxQixJ-C2"
      },
      "outputs": [],
      "source": [
        "# # # Max ABS Scaling the dataset\n",
        "# scaler = preprocessing.RobustScaler().fit(X_train)\n",
        "\n",
        "# X_train=scaler.transform(X_train)\n",
        "\n",
        "\n",
        "# X_test=scaler.transform(X_test)"
      ]
    },
    {
      "cell_type": "code",
      "execution_count": null,
      "metadata": {
        "id": "jk_E9vd5LbQs"
      },
      "outputs": [],
      "source": [
        "# quantile_transformer = preprocessing.PowerTransformer()\n",
        "# X_train=quantile_transformer.fit_transform(X_train)\n",
        "# X_test=quantile_transformer.transform(X_test)\n"
      ]
    },
    {
      "cell_type": "code",
      "execution_count": null,
      "metadata": {
        "id": "YN0uXU-nH86k"
      },
      "outputs": [],
      "source": [
        "# #Standard Scaling the Dataset\n",
        "# from sklearn import preprocessing\n",
        "# scaler = preprocessing.StandardScaler().fit(X_train)\n",
        "# print(scaler.mean_,scaler.scale_)\n",
        "# X_train=scaler.transform(X_train)\n",
        "# X_test=scaler.transform(X_test)"
      ]
    },
    {
      "cell_type": "code",
      "execution_count": null,
      "metadata": {
        "id": "Le6Q2dykJIvC"
      },
      "outputs": [],
      "source": [
        "# #Min Max Scaling the dataset\n",
        "# scaler = preprocessing.MinMaxScaler().fit(X_train)\n",
        "\n",
        "# X_train=scaler.transform(X_train)\n",
        "\n",
        "\n",
        "# X_test=scaler.transform(X_test)"
      ]
    },
    {
      "cell_type": "code",
      "execution_count": null,
      "metadata": {
        "colab": {
          "base_uri": "https://localhost:8080/"
        },
        "id": "8Cu81tQq0359",
        "outputId": "6385bb29-cf77-4591-b07c-185f4469df05"
      },
      "outputs": [
        {
          "output_type": "stream",
          "name": "stdout",
          "text": [
            "Score:  [1.76127945e+04 4.86215913e+05 2.08792612e+03 1.59196886e+03\n",
            " 1.96011348e+04 2.65091540e+03 3.63092270e+03 1.51829871e+04\n",
            " 5.45063048e+04 5.37428012e+03 1.49251532e+02]\n",
            "Columns:  Index(['nS', 'AATS8i', 'AATSC1i', 'MATS1i', 'SM1_Dzs', 'SpMin6_Bhm',\n",
            "       'SpMin7_Bhm', 'minHBa', 'gmin', 'MAXDN', 'ETA_Psi_1'],\n",
            "      dtype='object')\n"
          ]
        }
      ],
      "source": [
        "from sklearn.feature_selection import chi2, SelectKBest, f_classif\n",
        "# Get the two best(k = 2) features using the SelectKBest method\n",
        "ft = SelectKBest(chi2, k = 2).fit(abs(X_train), abs(y_train))\n",
        "print('Score: ', ft.scores_)\n",
        "print('Columns: ', X_train.columns)"
      ]
    },
    {
      "cell_type": "code",
      "execution_count": null,
      "metadata": {
        "colab": {
          "base_uri": "https://localhost:8080/"
        },
        "id": "8hrJWf_N70MG",
        "outputId": "6e67be55-967c-4f51-826b-68babe982313"
      },
      "outputs": [
        {
          "output_type": "stream",
          "name": "stdout",
          "text": [
            "Score:  [334.98792417 268.66128205 306.4886707  260.35426046 326.39462235\n",
            " 340.64812168 290.05154283 214.11588818 419.89170005 242.54792843\n",
            " 347.71306518]\n",
            "Columns:  Index(['nS', 'AATS8i', 'AATSC1i', 'MATS1i', 'SM1_Dzs', 'SpMin6_Bhm',\n",
            "       'SpMin7_Bhm', 'minHBa', 'gmin', 'MAXDN', 'ETA_Psi_1'],\n",
            "      dtype='object')\n"
          ]
        }
      ],
      "source": [
        "ft = SelectKBest(f_classif, k= 2).fit(X_train, y_train)\n",
        "print('Score: ', ft.scores_)\n",
        "print('Columns: ', X_train.columns)\n"
      ]
    },
    {
      "cell_type": "code",
      "execution_count": null,
      "metadata": {
        "id": "r2ea2AafciHM"
      },
      "outputs": [],
      "source": [
        "from sklearn.metrics import precision_score,recall_score,f1_score\n",
        "from sklearn.metrics import matthews_corrcoef,cohen_kappa_score,roc_auc_score\n",
        "from sklearn.metrics import accuracy_score\n",
        "def all_metrices(y_test,y_pred):\n",
        "  acc=accuracy_score(y_test, y_pred)\n",
        "  #auc=roc_auc_score(y_test,y_pred,average='micro')\n",
        "  precision=precision_score(y_test, y_pred,average='micro')\n",
        "  recall=recall_score(y_test, y_pred,average='micro')\n",
        "  f1=f1_score(y_test, y_pred,average='micro')\n",
        "  mcc=matthews_corrcoef(y_test,y_pred)\n",
        "  kappa=cohen_kappa_score(y_test,y_pred)\n",
        "\n",
        "  print('Accuracy: %.2f' % (acc*100))\n",
        "  #print('Roc_Auc Score: %.2f' % (auc*100))\n",
        "  print('Precision: %.2f' % (precision*100))\n",
        "  print('recall: %.2f' % (recall*100))\n",
        "  print('fl score: %.2f' % (f1*100))\n",
        "  print('Mcc Score: %.2f' % (mcc))\n",
        "  print('Kappa score: %.2f' % (kappa))\n",
        "  print('\\n')"
      ]
    },
    {
      "cell_type": "code",
      "execution_count": null,
      "metadata": {
        "id": "i3VB71qIcoM-"
      },
      "outputs": [],
      "source": [
        "from sklearn.metrics import accuracy_score, confusion_matrix, classification_report\n",
        "\n",
        "def print_score(clf, X_train, y_train, X_test, y_test, train):\n",
        "    if train:\n",
        "        pred = clf.predict(X_train)\n",
        "        \n",
        "        clf_report = pd.DataFrame(classification_report(y_train, pred, output_dict=True))\n",
        "        print(\"Train Result:\\n================================================\")\n",
        "        # print(f\"Accuracy Score: {accuracy_score(y_train, pred,) * 100:.2f}%\")\n",
        "        # print(\"_______________________________________________\")\n",
        "        # print(f\"CLASSIFICATION REPORT:\\n{clf_report}\")\n",
        "        # print(\"_______________________________________________\")\n",
        "        # print(f\"Confusion Matrix: \\n {confusion_matrix(y_train, pred)}\\n\")\n",
        "        all_metrices(y_train,pred)\n",
        "    elif train==False:\n",
        "        pred = clf.predict(X_test)\n",
        "        \n",
        "        clf_report = pd.DataFrame(classification_report(y_test, pred, output_dict=True))\n",
        "        print(\"Test Result:\\n================================================\")        \n",
        "        # print(f\"Accuracy Score: {accuracy_score(y_test, pred) * 100:.2f}%\")\n",
        "        # print(\"_______________________________________________\")\n",
        "        # print(f\"CLASSIFICATION REPORT:\\n{clf_report}\")\n",
        "        # print(\"_______________________________________________\")\n",
        "        # print(f\"Confusion Matrix: \\n {confusion_matrix(y_test, pred)}\\n\")\n",
        "        all_metrices(y_test,pred)"
      ]
    },
    {
      "cell_type": "code",
      "execution_count": null,
      "metadata": {
        "colab": {
          "base_uri": "https://localhost:8080/"
        },
        "id": "xWkZk_OYdThw",
        "outputId": "cd65ac2c-e248-423c-cc59-45694f23ff27"
      },
      "outputs": [
        {
          "output_type": "stream",
          "name": "stdout",
          "text": [
            "Collecting pyttsx3\n",
            "  Downloading pyttsx3-2.90-py3-none-any.whl (39 kB)\n",
            "Installing collected packages: pyttsx3\n",
            "Successfully installed pyttsx3-2.90\n"
          ]
        }
      ],
      "source": [
        "import pandas as pd\n",
        "!pip install pyttsx3\n",
        "import pyttsx3\n",
        "from sklearn import preprocessing\n",
        "from sklearn.tree import DecisionTreeClassifier,_tree\n",
        "import numpy as np\n",
        "from sklearn.model_selection import train_test_split\n",
        "from sklearn.model_selection import cross_val_score\n",
        "from sklearn.svm import SVC\n",
        "import csv\n",
        "import warnings\n",
        "warnings.filterwarnings(\"ignore\", category=DeprecationWarning)"
      ]
    },
    {
      "cell_type": "code",
      "execution_count": null,
      "metadata": {
        "colab": {
          "base_uri": "https://localhost:8080/"
        },
        "id": "ozSU3wtW7_xJ",
        "outputId": "0589d65a-7849-437c-cd06-9ba879a3ad05"
      },
      "outputs": [
        {
          "output_type": "stream",
          "name": "stdout",
          "text": [
            "Train Result:\n",
            "================================================\n",
            "Accuracy: 98.73\n",
            "Precision: 98.73\n",
            "recall: 98.73\n",
            "fl score: 98.73\n",
            "Mcc Score: 0.99\n",
            "Kappa score: 0.99\n",
            "\n",
            "\n",
            "Test Result:\n",
            "================================================\n",
            "Accuracy: 96.79\n",
            "Precision: 96.79\n",
            "recall: 96.79\n",
            "fl score: 96.79\n",
            "Mcc Score: 0.97\n",
            "Kappa score: 0.97\n",
            "\n",
            "\n"
          ]
        }
      ],
      "source": [
        "from sklearn.tree import DecisionTreeClassifier\n",
        "\n",
        "\n",
        "tree_clf = DecisionTreeClassifier(random_state=42)\n",
        "tree_clf.fit(X_train, y_train)\n",
        "\n",
        "print_score(tree_clf, X_train, y_train, X_test, y_test, train=True)\n",
        "print_score(tree_clf, X_train, y_train, X_test, y_test, train=False)"
      ]
    },
    {
      "cell_type": "code",
      "execution_count": null,
      "metadata": {
        "colab": {
          "base_uri": "https://localhost:8080/"
        },
        "id": "dTmMyqTadU1M",
        "outputId": "e032e6d1-2c1f-4e16-ecb0-f743e9619f5e"
      },
      "outputs": [
        {
          "output_type": "stream",
          "name": "stdout",
          "text": [
            "Train Result:\n",
            "================================================\n",
            "Accuracy: 94.64\n",
            "Precision: 94.64\n",
            "recall: 94.64\n",
            "fl score: 94.64\n",
            "Mcc Score: 0.95\n",
            "Kappa score: 0.95\n",
            "\n",
            "\n",
            "Test Result:\n",
            "================================================\n",
            "Accuracy: 91.86\n",
            "Precision: 91.86\n",
            "recall: 91.86\n",
            "fl score: 91.86\n",
            "Mcc Score: 0.92\n",
            "Kappa score: 0.92\n",
            "\n",
            "\n"
          ]
        }
      ],
      "source": [
        "from sklearn.neighbors import KNeighborsClassifier\n",
        "from sklearn.multioutput import MultiOutputClassifier\n",
        "knn_clf = KNeighborsClassifier()\n",
        "\n",
        "knn_clf.fit(X_train, y_train)\n",
        "\n",
        "print_score(knn_clf, X_train, y_train, X_test, y_test, train=True)\n",
        "print_score(knn_clf, X_train, y_train, X_test, y_test, train=False)"
      ]
    },
    {
      "cell_type": "code",
      "execution_count": null,
      "metadata": {
        "colab": {
          "base_uri": "https://localhost:8080/"
        },
        "id": "T-Vi12LCdbmg",
        "outputId": "92822fab-fa72-46d3-fef2-c00be2bf9f45"
      },
      "outputs": [
        {
          "output_type": "stream",
          "name": "stdout",
          "text": [
            "Train Result:\n",
            "================================================\n",
            "Accuracy: 98.73\n",
            "Precision: 98.73\n",
            "recall: 98.73\n",
            "fl score: 98.73\n",
            "Mcc Score: 0.99\n",
            "Kappa score: 0.99\n",
            "\n",
            "\n",
            "Test Result:\n",
            "================================================\n",
            "Accuracy: 97.01\n",
            "Precision: 97.01\n",
            "recall: 97.01\n",
            "fl score: 97.01\n",
            "Mcc Score: 0.97\n",
            "Kappa score: 0.97\n",
            "\n",
            "\n"
          ]
        }
      ],
      "source": [
        "from sklearn.ensemble import RandomForestClassifier\n",
        "from sklearn.model_selection import RandomizedSearchCV\n",
        "\n",
        "rf_clf = RandomForestClassifier(random_state=42)\n",
        "rf_clf.fit(X_train, y_train)\n",
        "\n",
        "print_score(rf_clf, X_train, y_train, X_test, y_test, train=True)\n",
        "print_score(rf_clf, X_train, y_train, X_test, y_test, train=False)"
      ]
    },
    {
      "cell_type": "code",
      "execution_count": null,
      "metadata": {
        "colab": {
          "base_uri": "https://localhost:8080/"
        },
        "id": "lSfiIgNtdeOc",
        "outputId": "6314b28e-d605-49fb-d0e4-903b8e60e23b"
      },
      "outputs": [
        {
          "output_type": "stream",
          "name": "stdout",
          "text": [
            "Train Result:\n",
            "================================================\n",
            "Accuracy: 90.20\n",
            "Precision: 90.20\n",
            "recall: 90.20\n",
            "fl score: 90.20\n",
            "Mcc Score: 0.90\n",
            "Kappa score: 0.90\n",
            "\n",
            "\n",
            "Test Result:\n",
            "================================================\n",
            "Accuracy: 87.91\n",
            "Precision: 87.91\n",
            "recall: 87.91\n",
            "fl score: 87.91\n",
            "Mcc Score: 0.88\n",
            "Kappa score: 0.88\n",
            "\n",
            "\n"
          ]
        }
      ],
      "source": [
        "from xgboost import XGBClassifier\n",
        "\n",
        "xgb_clf = XGBClassifier()\n",
        "xgb_clf.fit(X_train, y_train)\n",
        "\n",
        "print_score(xgb_clf, X_train, y_train, X_test, y_test, train=True)\n",
        "print_score(xgb_clf, X_train, y_train, X_test, y_test, train=False)"
      ]
    },
    {
      "cell_type": "code",
      "execution_count": null,
      "metadata": {
        "id": "LlPzcH5fhKfi",
        "colab": {
          "base_uri": "https://localhost:8080/",
          "height": 350
        },
        "outputId": "a883fe4b-b85a-49f9-a220-597442043cf7"
      },
      "outputs": [
        {
          "output_type": "display_data",
          "data": {
            "text/plain": [
              "<Figure size 1080x360 with 1 Axes>"
            ],
            "image/png": "[encoded data removed]"
          },
          "metadata": {
            "needs_background": "light"
          }
        }
      ],
      "source": [
        "# data to plot\n",
        "n_groups = 4\n",
        "algorithms = ('Decision Tree(DT)', 'K-Nearest-Neighbours(KNN)','Random Forest(RF)','XGBoost(XGB)')\n",
        "train_accuracy = (accuracy_score(y_train, tree_clf.predict(X_train))*100, \n",
        "                  accuracy_score(y_train, knn_clf.predict(X_train))*100, \n",
        "                  accuracy_score(y_train, rf_clf.predict(X_train))*100,\n",
        "                  accuracy_score(y_train, xgb_clf.predict(X_train))*100\n",
        "                  )\n",
        "test_accuracy = (accuracy_score(y_test, tree_clf.predict(X_test))*100, \n",
        "                 accuracy_score(y_test, knn_clf.predict(X_test))*100, \n",
        "                 accuracy_score(y_test, rf_clf.predict(X_test))*100,\n",
        "                 accuracy_score(y_test, xgb_clf.predict(X_test))*100\n",
        "                \n",
        "                 )\n",
        "\n",
        "# create plot\n",
        "fig, ax = plt.subplots(figsize=(15, 5))\n",
        "index = np.arange(n_groups)\n",
        "bar_width = 0.3\n",
        "opacity = 0.8\n",
        "rects1 = plt.bar(index, train_accuracy, bar_width, alpha = opacity, color='Cornflowerblue', label='Train')\n",
        "rects2 = plt.bar(index + bar_width, test_accuracy, bar_width, alpha = opacity, color='Teal', label='Test')\n",
        "plt.xlabel('Algorithm') # x axis label\n",
        "plt.ylabel('Accuracy (%)') # y axis label\n",
        "plt.ylim(0, 115)\n",
        "plt.title('Comparison of Algorithm Accuracies') # plot title\n",
        "plt.xticks(index + bar_width * 0.5, algorithms) # x axis data labels\n",
        "plt.legend(loc = 'upper right') # show legend\n",
        "for index, data in enumerate(train_accuracy):\n",
        "    plt.text(x = index - 0.035, y = data + 1, s = round(data, 2), fontdict = dict(fontsize = 8))\n",
        "for index, data in enumerate(test_accuracy):\n",
        "    plt.text(x = index + 0.25, y = data + 1, s = round(data, 2), fontdict = dict(fontsize = 8))\n",
        "plt.show()"
      ]
    },
    {
      "cell_type": "code",
      "source": [
        "from matplotlib.legend_handler import HandlerLine2D\n",
        "algo=('DT', 'KNN','RF','XGB')\n",
        "line1, = plt.plot(algo, train_accuracy, 'b', label=\"Train ACC\")\n",
        "line2, = plt.plot(algo, test_accuracy, 'r', label=\"Test ACC\")\n",
        "plt.legend(handler_map={line1: HandlerLine2D(numpoints=2)})\n",
        "plt.ylabel('Accuracy(%)')\n",
        "plt.xlabel('Classifier')\n",
        "plt.figure(figsize = (6, 10))\n",
        "plt.show()"
      ],
      "metadata": {
        "colab": {
          "base_uri": "https://localhost:8080/",
          "height": 296
        },
        "id": "VSloDO5oQ12h",
        "outputId": "115c8bb7-378c-409d-fdcf-e831e55921c2"
      },
      "execution_count": null,
      "outputs": [
        {
          "output_type": "display_data",
          "data": {
            "text/plain": [
              "<Figure size 432x288 with 1 Axes>"
            ],
            "image/png": "[encoded data removed]"
          },
          "metadata": {
            "needs_background": "light"
          }
        },
        {
          "output_type": "display_data",
          "data": {
            "text/plain": [
              "<Figure size 432x720 with 0 Axes>"
            ]
          },
          "metadata": {}
        }
      ]
    },
    {
      "cell_type": "code",
      "source": [
        "import joblib\n",
        "joblib.dump(rf_clf, \"/content/drive/MyDrive/random_forest.joblib\")"
      ],
      "metadata": {
        "colab": {
          "base_uri": "https://localhost:8080/"
        },
        "id": "AXKYgN34TvbC",
        "outputId": "61e3ad69-ee2b-4a06-c747-35532679e330"
      },
      "execution_count": null,
      "outputs": [
        {
          "output_type": "execute_result",
          "data": {
            "text/plain": [
              "['/content/drive/MyDrive/random_forest.joblib']"
            ]
          },
          "metadata": {},
          "execution_count": 73
        }
      ]
    },
    {
      "cell_type": "code",
      "source": [
        "df1=pd.read_csv('/content/drive/MyDrive/1800Finaldescriptors4.csv')\n",
        "df1 = df1.loc[:, ~df1.columns.str.contains('^Unnamed')]\n",
        "df2=pd.DataFrame()\n",
        "\n",
        "df2['Primary Odor']=df1['Primary Odor']\n",
        "df1['Primary Odor']= label_encoder.fit_transform(df1['Primary Odor'])\n",
        "df2 = df2.loc[:, ~df2.columns.str.contains('^Unnamed')]\n",
        "df2.drop_duplicates(inplace=True)\n",
        "df1.drop_duplicates(inplace=True)\n",
        "df3['Primary Odor']=df2['Primary Odor']\n",
        "df3['Primary Odor']= label_encoder.fit_transform(df3['Primary Odor'])\n",
        "df4=pd.DataFrame()\n",
        "df4['name']=df2['Primary Odor']\n",
        "df4['value']=df3['Primary Odor']\n",
        "df4.to_csv('/content/drive/MyDrive/Odors.csv')"
      ],
      "metadata": {
        "id": "HEKmfY41f68p"
      },
      "execution_count": null,
      "outputs": []
    }
  ],
  "metadata": {
    "accelerator": "TPU",
    "colab": {
      "collapsed_sections": [],
      "name": "Odor_prediction_NormalClassifiers_on_full_dataset.ipynb",
      "provenance": []
    },
    "kernelspec": {
      "display_name": "Python 3",
      "name": "python3"
    },
    "language_info": {
      "name": "python"
    }
  },
  "nbformat": 4,
  "nbformat_minor": 0
}